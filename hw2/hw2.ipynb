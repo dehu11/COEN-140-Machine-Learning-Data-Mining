{
 "cells": [
  {
   "cell_type": "markdown",
   "metadata": {},
   "source": [
    "# LDA & QDA Classifier"
   ]
  },
  {
   "cell_type": "code",
   "execution_count": 1,
   "metadata": {},
   "outputs": [],
   "source": [
    "import numpy as np\n",
    "import math"
   ]
  },
  {
   "cell_type": "markdown",
   "metadata": {},
   "source": [
    "### Read in data and format as floats"
   ]
  },
  {
   "cell_type": "code",
   "execution_count": 2,
   "metadata": {
    "collapsed": true
   },
   "outputs": [],
   "source": [
    "with open('iris.data', \"r\") as data:\n",
    "    data = data.read().splitlines()\n",
    "data = np.array([tuple(line.split(',')) for line in data])\n",
    "\n",
    "nums = np.zeros((150, 4))\n",
    "\n",
    "for row in range (150):\n",
    "    for col in range (4):\n",
    "        nums[row,col] = float(data[row, col])\n",
    "\n",
    "nums = nums.T"
   ]
  },
  {
   "cell_type": "markdown",
   "metadata": {},
   "source": [
    "### Split data into categories and split again into training and test data"
   ]
  },
  {
   "cell_type": "code",
   "execution_count": 3,
   "metadata": {},
   "outputs": [],
   "source": [
    "setosaTrain = nums[0:4, 0:40]\n",
    "setosaTest = nums[0:4, 40:50]\n",
    "\n",
    "versiTrain = nums[0:4, 50:90]\n",
    "versiTest = nums[0:4, 90:100]\n",
    "\n",
    "virgTrain = nums[0:4, 100:140]\n",
    "virgTest = nums[0:4, 140:150]"
   ]
  },
  {
   "cell_type": "markdown",
   "metadata": {},
   "source": [
    "### Calculate u and E for each category and avgE for LDA"
   ]
  },
  {
   "cell_type": "code",
   "execution_count": 4,
   "metadata": {},
   "outputs": [],
   "source": [
    "# Calculate sum \n",
    "u1 = np.array([np.sum(setosaTrain, axis = 1)]).T / len(setosaTrain[0])\n",
    "u2 = np.array([np.sum(versiTrain, axis = 1)]).T / len(versiTrain[0])\n",
    "u3 = np.array([np.sum(virgTrain, axis = 1)]).T / len(virgTrain[0])\n",
    "\n",
    "# Calculate E        \n",
    "E1 = np.matmul((setosaTrain - u1), (setosaTrain - u1).T) / len(setosaTrain[0])\n",
    "E2 = np.matmul((versiTrain - u2), (versiTrain - u2).T) / len(versiTrain[0])\n",
    "E3 = np.matmul((virgTrain - u3), (virgTrain - u3).T) / len(virgTrain[0])\n",
    "\n",
    "#Calculate average E\n",
    "avgE = (E1 + E2 + E3)/3"
   ]
  },
  {
   "cell_type": "markdown",
   "metadata": {},
   "source": [
    "## Gaussian function"
   ]
  },
  {
   "cell_type": "code",
   "execution_count": 5,
   "metadata": {
    "collapsed": true
   },
   "outputs": [],
   "source": [
    "# Create a Gaussian function\n",
    "def gaussian (E, test, u, i):\n",
    "    \"This returns the probability of the test parameters in a category\"\n",
    "    return (1 / (2 * math.pi * np.linalg.det(E))**(1 / 2)) * math.exp((-1/2) * np.matmul(np.matmul(test[0:4, i] - u.T, np.linalg.inv(E)), (test[0:4, i] - u.T).T))"
   ]
  },
  {
   "cell_type": "markdown",
   "metadata": {},
   "source": [
    "## Classification function"
   ]
  },
  {
   "cell_type": "code",
   "execution_count": 6,
   "metadata": {
    "collapsed": true
   },
   "outputs": [],
   "source": [
    "# Create a classification function that calculates probabilities of the test data and returns errors\n",
    "def classify_all_errors (E1, E2, E3, test1, test2, test3, u1, u2, u3):\n",
    "    \"This returns the number of errors for the entire test set\"\n",
    "    errorCount = 0\n",
    "\n",
    "    # Run setosaTest and check if correctly classifies as Setosa\n",
    "    for i in range (len(test1[0])):\n",
    "        prob1 = gaussian (E1, test1, u1, i)\n",
    "        prob2 = gaussian (E2, test1, u2, i)\n",
    "        prob3 = gaussian (E3, test1, u3, i)\n",
    "        if max (prob1, prob2, prob3) != prob1:\n",
    "            errorCount += 1\n",
    "\n",
    "    # Run versiTest and check if correctly classifies as Versicolor  \n",
    "    for i in range (len(test2[0])):\n",
    "        prob1 = gaussian (E1, test2, u1, i)\n",
    "        prob2 = gaussian (E2, test2, u2, i)\n",
    "        prob3 = gaussian (E3, test2, u3, i)\n",
    "        if max (prob1, prob2, prob3) != prob2:\n",
    "            errorCount += 1\n",
    "\n",
    "    # Run virgTest and check if correctly classifies as Virginica\n",
    "    for i in range (len(test3[0])):\n",
    "        prob1 = gaussian (E1, test3, u1, i)\n",
    "        prob2 = gaussian (E2, test3, u2, i)\n",
    "        prob3 = gaussian (E3, test3, u3, i)\n",
    "        if max (prob1, prob2, prob3) != prob3:\n",
    "            errorCount += 1\n",
    "    \n",
    "    return errorCount"
   ]
  },
  {
   "cell_type": "markdown",
   "metadata": {},
   "source": [
    "## LDA Classifier"
   ]
  },
  {
   "cell_type": "markdown",
   "metadata": {},
   "source": [
    "### Enter test data into Gaussian and calculate training accuracy and error of LDA classifier "
   ]
  },
  {
   "cell_type": "code",
   "execution_count": 7,
   "metadata": {},
   "outputs": [
    {
     "name": "stdout",
     "output_type": "stream",
     "text": [
      "LDA Classifier (Train) - Accuracy: 90.00 %, Error: 10.00 %\n"
     ]
    }
   ],
   "source": [
    "error = classify_all_errors (avgE, avgE, avgE, setosaTrain, versiTrain, virgTrain, u1, u2, u3)/30\n",
    "accuracy = 1 - error\n",
    "print (\"LDA Classifier (Train) - Accuracy:\", format(accuracy*100, '.2f'), \"%, Error:\", format(error*100, '.2f'), \"%\")"
   ]
  },
  {
   "cell_type": "markdown",
   "metadata": {},
   "source": [
    "### Enter test data into Gaussian and calculate testing accuracy and error of LDA classifier"
   ]
  },
  {
   "cell_type": "code",
   "execution_count": 8,
   "metadata": {},
   "outputs": [
    {
     "name": "stdout",
     "output_type": "stream",
     "text": [
      "LDA Classifier (Test) - Accuracy: 100.00 %, Error: 0.00 %\n"
     ]
    }
   ],
   "source": [
    "error = classify_all_errors (avgE, avgE, avgE, setosaTest, versiTest, virgTest, u1, u2, u3)/30\n",
    "accuracy = 1 - error\n",
    "print (\"LDA Classifier (Test) - Accuracy:\", format(accuracy*100, '.2f'), \"%, Error:\", format(error*100, '.2f'), \"%\")"
   ]
  },
  {
   "cell_type": "markdown",
   "metadata": {
    "collapsed": true
   },
   "source": [
    "## QDA Classifier"
   ]
  },
  {
   "cell_type": "markdown",
   "metadata": {},
   "source": [
    "### Enter test data into Gaussian and calculate training accuracy and error of QDA classifier "
   ]
  },
  {
   "cell_type": "code",
   "execution_count": 9,
   "metadata": {},
   "outputs": [
    {
     "name": "stdout",
     "output_type": "stream",
     "text": [
      "QDA Classifier (Train) - Accuracy: 93.33 %, Error: 6.67 %\n"
     ]
    }
   ],
   "source": [
    "error = classify_all_errors (E1, E2, E3, setosaTrain, versiTrain, virgTrain, u1, u2, u3)/30\n",
    "accuracy = 1 - error\n",
    "print (\"QDA Classifier (Train) - Accuracy:\", format(accuracy*100, '.2f'), \"%, Error:\", format(error*100, '.2f'), \"%\")"
   ]
  },
  {
   "cell_type": "markdown",
   "metadata": {},
   "source": [
    "### Enter test data into Gaussian and calculate testing accuracy and error of QDA classifier"
   ]
  },
  {
   "cell_type": "code",
   "execution_count": 10,
   "metadata": {},
   "outputs": [
    {
     "name": "stdout",
     "output_type": "stream",
     "text": [
      "QDA Classifier (Test) - Accuracy: 100.00 %, Error: 0.00 %\n"
     ]
    }
   ],
   "source": [
    "error = classify_all_errors (E1, E2, E3, setosaTest, versiTest, virgTest, u1, u2, u3)/30\n",
    "accuracy = 1 - error\n",
    "print (\"QDA Classifier (Test) - Accuracy:\", format(accuracy*100, '.2f'), \"%, Error:\", format(error*100, '.2f'), \"%\")"
   ]
  },
  {
   "cell_type": "markdown",
   "metadata": {},
   "source": [
    "# Testing if any variables are unimportant"
   ]
  },
  {
   "cell_type": "markdown",
   "metadata": {},
   "source": [
    "## Removing sepal length"
   ]
  },
  {
   "cell_type": "code",
   "execution_count": 11,
   "metadata": {
    "collapsed": true
   },
   "outputs": [],
   "source": [
    "setosaTrain_noSL = setosaTrain[1:4]\n",
    "setosaTest_noSL = setosaTest[1:4]\n",
    "\n",
    "versiTrain_noSL = versiTrain[1:4]\n",
    "versiTest_noSL = versiTest[1:4]\n",
    "\n",
    "virgTrain_noSL = virgTrain[1:4]\n",
    "virgTest_noSL = virgTest[1:4]"
   ]
  },
  {
   "cell_type": "code",
   "execution_count": 12,
   "metadata": {
    "collapsed": true
   },
   "outputs": [],
   "source": [
    "# Calculate sum \n",
    "u1_noSL = np.array([np.sum(setosaTrain_noSL, axis = 1)]).T/40\n",
    "u2_noSL = np.array([np.sum(versiTrain_noSL, axis = 1)]).T/40\n",
    "u3_noSL = np.array([np.sum(virgTrain_noSL, axis = 1)]).T/40\n",
    "\n",
    "# Calculate E        \n",
    "E1_noSL = np.matmul((setosaTrain_noSL - u1_noSL), (setosaTrain_noSL - u1_noSL).T) / 40\n",
    "E2_noSL = np.matmul((versiTrain_noSL - u2_noSL), (versiTrain_noSL - u2_noSL).T) / 40\n",
    "E3_noSL = np.matmul((virgTrain_noSL - u3_noSL), (virgTrain_noSL - u3_noSL).T) / 40\n",
    "\n",
    "#Calculate average E\n",
    "avgE_noSL = (E1_noSL + E2_noSL + E3_noSL)/3"
   ]
  },
  {
   "cell_type": "markdown",
   "metadata": {},
   "source": [
    "### LDA without sepal length"
   ]
  },
  {
   "cell_type": "code",
   "execution_count": 13,
   "metadata": {},
   "outputs": [
    {
     "name": "stdout",
     "output_type": "stream",
     "text": [
      "No Sepal Length (LDA) - Accuracy: 100.00 %, Error: 0.00 %\n"
     ]
    }
   ],
   "source": [
    "error = classify_all_errors (avgE_noSL, avgE_noSL, avgE_noSL, setosaTest_noSL, versiTest_noSL, virgTest_noSL, u1_noSL, u2_noSL, u3_noSL)/30\n",
    "accuracy = 1 - error\n",
    "print (\"No Sepal Length (LDA) - Accuracy:\", format(accuracy*100, '.2f'), \"%, Error:\", format(error*100, '.2f'), \"%\")"
   ]
  },
  {
   "cell_type": "markdown",
   "metadata": {},
   "source": [
    "### QDA without sepal length"
   ]
  },
  {
   "cell_type": "code",
   "execution_count": 14,
   "metadata": {},
   "outputs": [
    {
     "name": "stdout",
     "output_type": "stream",
     "text": [
      "No Sepal Length (QDA) - Accuracy: 100.00 %, Error: 0.00 %\n"
     ]
    }
   ],
   "source": [
    "error = classify_all_errors (E1_noSL, E2_noSL, E3_noSL, setosaTest_noSL, versiTest_noSL, virgTest_noSL, u1_noSL, u2_noSL, u3_noSL)/30\n",
    "accuracy = 1 - error\n",
    "print (\"No Sepal Length (QDA) - Accuracy:\", format(accuracy*100, '.2f'), \"%, Error:\", format(error*100, '.2f'), \"%\")"
   ]
  },
  {
   "cell_type": "markdown",
   "metadata": {},
   "source": [
    "## Removing sepal width"
   ]
  },
  {
   "cell_type": "code",
   "execution_count": 15,
   "metadata": {
    "collapsed": true
   },
   "outputs": [],
   "source": [
    "setosaTrain_noSW = np.concatenate(([setosaTrain[0]], setosaTrain[2:4]), axis = 0)\n",
    "setosaTest_noSW = np.concatenate(([setosaTest[0]], setosaTest[2:4]), axis = 0)\n",
    "\n",
    "versiTrain_noSW = np.concatenate(([versiTrain[0]], versiTrain[2:4]), axis = 0)\n",
    "versiTest_noSW = np.concatenate(([versiTest[0]], versiTest[2:4]), axis = 0)\n",
    "\n",
    "virgTrain_noSW = np.concatenate(([virgTrain[0]], virgTrain[2:4]), axis = 0)\n",
    "virgTest_noSW = np.concatenate(([virgTest[0]], virgTest[2:4]), axis = 0)"
   ]
  },
  {
   "cell_type": "code",
   "execution_count": 16,
   "metadata": {
    "collapsed": true
   },
   "outputs": [],
   "source": [
    "# Calculate sum \n",
    "u1_noSW = np.array([np.sum(setosaTrain_noSW, axis = 1)]).T/40\n",
    "u2_noSW = np.array([np.sum(versiTrain_noSW, axis = 1)]).T/40\n",
    "u3_noSW = np.array([np.sum(virgTrain_noSW, axis = 1)]).T/40\n",
    "\n",
    "# Calculate E        \n",
    "E1_noSW = np.matmul((setosaTrain_noSW - u1_noSW), (setosaTrain_noSW - u1_noSW).T) / 40\n",
    "E2_noSW = np.matmul((versiTrain_noSW - u2_noSW), (versiTrain_noSW - u2_noSW).T) / 40\n",
    "E3_noSW = np.matmul((virgTrain_noSW - u3_noSW), (virgTrain_noSW - u3_noSW).T) / 40\n",
    "\n",
    "#Calculate average E\n",
    "avgE_noSW = (E1_noSW + E2_noSW + E3_noSW)/3"
   ]
  },
  {
   "cell_type": "markdown",
   "metadata": {},
   "source": [
    "### LDA without sepal width"
   ]
  },
  {
   "cell_type": "code",
   "execution_count": 17,
   "metadata": {},
   "outputs": [
    {
     "name": "stdout",
     "output_type": "stream",
     "text": [
      "No Sepal Width (LDA) - Accuracy: 100.00 %, Error: 0.00 %\n"
     ]
    }
   ],
   "source": [
    "error = classify_all_errors (avgE_noSW, avgE_noSW, avgE_noSW, setosaTest_noSW, versiTest_noSW, virgTest_noSW, u1_noSW, u2_noSW, u3_noSW)/30\n",
    "accuracy = 1 - error\n",
    "print (\"No Sepal Width (LDA) - Accuracy:\", format(accuracy*100, '.2f'), \"%, Error:\", format(error*100, '.2f'), \"%\")"
   ]
  },
  {
   "cell_type": "markdown",
   "metadata": {},
   "source": [
    "### QDA without sepal width"
   ]
  },
  {
   "cell_type": "code",
   "execution_count": 18,
   "metadata": {},
   "outputs": [
    {
     "name": "stdout",
     "output_type": "stream",
     "text": [
      "No Sepal Width (QDA) - Accuracy: 100.00 %, Error: 0.00 %\n"
     ]
    }
   ],
   "source": [
    "error = classify_all_errors (E1_noSW, E2_noSW, E3_noSW, setosaTest_noSW, versiTest_noSW, virgTest_noSW, u1_noSW, u2_noSW, u3_noSW)/30\n",
    "accuracy = 1 - error\n",
    "print (\"No Sepal Width (QDA) - Accuracy:\", format(accuracy*100, '.2f'), \"%, Error:\", format(error*100, '.2f'), \"%\")"
   ]
  },
  {
   "cell_type": "markdown",
   "metadata": {},
   "source": [
    "## Removing petal length"
   ]
  },
  {
   "cell_type": "code",
   "execution_count": 19,
   "metadata": {
    "collapsed": true
   },
   "outputs": [],
   "source": [
    "setosaTrain_noPL = np.concatenate((setosaTrain[0:2], [setosaTrain[3]]), axis = 0)\n",
    "setosaTest_noPL = np.concatenate((setosaTest[0:2], [setosaTest[3]]), axis = 0)\n",
    "\n",
    "versiTrain_noPL = np.concatenate((versiTrain[0:2], [versiTrain[3]]), axis = 0)\n",
    "versiTest_noPL = np.concatenate((versiTest[0:2], [versiTest[3]]), axis = 0)\n",
    "\n",
    "virgTrain_noPL = np.concatenate((virgTrain[0:2], [virgTrain[3]]), axis = 0)\n",
    "virgTest_noPL = np.concatenate((virgTest[0:2], [virgTest[3]]), axis = 0)"
   ]
  },
  {
   "cell_type": "code",
   "execution_count": 20,
   "metadata": {
    "collapsed": true
   },
   "outputs": [],
   "source": [
    "# Calculate sum \n",
    "u1_noPL = np.array([np.sum(setosaTrain_noPL, axis = 1)]).T/40\n",
    "u2_noPL = np.array([np.sum(versiTrain_noPL, axis = 1)]).T/40\n",
    "u3_noPL = np.array([np.sum(virgTrain_noPL, axis = 1)]).T/40\n",
    "\n",
    "# Calculate E        \n",
    "E1_noPL = np.matmul((setosaTrain_noPL - u1_noPL), (setosaTrain_noPL - u1_noPL).T) / 40\n",
    "E2_noPL = np.matmul((versiTrain_noPL - u2_noPL), (versiTrain_noPL - u2_noPL).T) / 40\n",
    "E3_noPL = np.matmul((virgTrain_noPL - u3_noPL), (virgTrain_noPL - u3_noPL).T) / 40\n",
    "\n",
    "#Calculate average E\n",
    "avgE_noPL = (E1_noPL + E2_noPL + E3_noPL)/3"
   ]
  },
  {
   "cell_type": "markdown",
   "metadata": {},
   "source": [
    "### LDA without petal length"
   ]
  },
  {
   "cell_type": "code",
   "execution_count": 21,
   "metadata": {},
   "outputs": [
    {
     "name": "stdout",
     "output_type": "stream",
     "text": [
      "No Petal Length (LDA) - Accuracy: 100.00 %, Error: 0.00 %\n"
     ]
    }
   ],
   "source": [
    "error = classify_all_errors (avgE_noPL, avgE_noPL, avgE_noPL, setosaTest_noPL, versiTest_noPL, virgTest_noPL, u1_noPL, u2_noPL, u3_noPL)/30\n",
    "accuracy = 1 - error\n",
    "print (\"No Petal Length (LDA) - Accuracy:\", format(accuracy*100, '.2f'), \"%, Error:\", format(error*100, '.2f'), \"%\")"
   ]
  },
  {
   "cell_type": "markdown",
   "metadata": {},
   "source": [
    "### QDA without petal length"
   ]
  },
  {
   "cell_type": "code",
   "execution_count": 22,
   "metadata": {},
   "outputs": [
    {
     "name": "stdout",
     "output_type": "stream",
     "text": [
      "No Petal Length (QDA) - Accuracy: 100.00 %, Error: 0.00 %\n"
     ]
    }
   ],
   "source": [
    "error = classify_all_errors (E1_noPL, E2_noPL, E3_noPL, setosaTest_noPL, versiTest_noPL, virgTest_noPL, u1_noPL, u2_noPL, u3_noPL)/30\n",
    "accuracy = 1 - error\n",
    "print (\"No Petal Length (QDA) - Accuracy:\", format(accuracy*100, '.2f'), \"%, Error:\", format(error*100, '.2f'), \"%\")"
   ]
  },
  {
   "cell_type": "markdown",
   "metadata": {},
   "source": [
    "## Removing petal width"
   ]
  },
  {
   "cell_type": "code",
   "execution_count": 23,
   "metadata": {
    "collapsed": true
   },
   "outputs": [],
   "source": [
    "setosaTrain_noPW = setosaTrain[0:3]\n",
    "setosaTest_noPW = setosaTest[0:3]\n",
    "\n",
    "versiTrain_noPW = versiTrain[0:3]\n",
    "versiTest_noPW = versiTest[0:3]\n",
    "\n",
    "virgTrain_noPW = virgTrain[0:3]\n",
    "virgTest_noPW = virgTest[0:3]"
   ]
  },
  {
   "cell_type": "code",
   "execution_count": 24,
   "metadata": {
    "collapsed": true
   },
   "outputs": [],
   "source": [
    "# Calculate sum \n",
    "u1_noPW = np.array([np.sum(setosaTrain_noPW, axis = 1)]).T/40\n",
    "u2_noPW = np.array([np.sum(versiTrain_noPW, axis = 1)]).T/40\n",
    "u3_noPW = np.array([np.sum(virgTrain_noPW, axis = 1)]).T/40\n",
    "\n",
    "# Calculate E        \n",
    "E1_noPW = np.matmul((setosaTrain_noPW - u1_noPW), (setosaTrain_noPW - u1_noPW).T) / 40\n",
    "E2_noPW = np.matmul((versiTrain_noPW - u2_noPW), (versiTrain_noPW - u2_noPW).T) / 40\n",
    "E3_noPW = np.matmul((virgTrain_noPW - u3_noPW), (virgTrain_noPW - u3_noPW).T) / 40\n",
    "\n",
    "#Calculate average E\n",
    "avgE_noPW = (E1_noPW + E2_noPW + E3_noPW)/3"
   ]
  },
  {
   "cell_type": "markdown",
   "metadata": {},
   "source": [
    "### LDA without petal width"
   ]
  },
  {
   "cell_type": "code",
   "execution_count": 25,
   "metadata": {},
   "outputs": [
    {
     "name": "stdout",
     "output_type": "stream",
     "text": [
      "Petal Width (LDA) - Accuracy: 96.67 %, Error: 3.33 %\n"
     ]
    }
   ],
   "source": [
    "error = classify_all_errors (avgE_noPW, avgE_noPW, avgE_noPW, setosaTest_noPW, versiTest_noPW, virgTest_noPW, u1_noPW, u2_noPW, u3_noPW)/30\n",
    "accuracy = 1 - error\n",
    "print (\"Petal Width (LDA) - Accuracy:\", format(accuracy*100, '.2f'), \"%, Error:\", format(error*100, '.2f'), \"%\")"
   ]
  },
  {
   "cell_type": "markdown",
   "metadata": {},
   "source": [
    "### QDA without petal width"
   ]
  },
  {
   "cell_type": "code",
   "execution_count": 26,
   "metadata": {},
   "outputs": [
    {
     "name": "stdout",
     "output_type": "stream",
     "text": [
      "Petal Width (QDA) - Accuracy: 96.67 %, Error: 3.33 %\n"
     ]
    }
   ],
   "source": [
    "error = classify_all_errors (E1_noPW, E2_noPW, E3_noPW, setosaTest_noPW, versiTest_noPW, virgTest_noPW, u1_noPW, u2_noPW, u3_noPW)/30\n",
    "accuracy = 1 - error\n",
    "print (\"Petal Width (QDA) - Accuracy:\", format(accuracy*100, '.2f'), \"%, Error:\", format(error*100, '.2f'), \"%\")"
   ]
  },
  {
   "cell_type": "markdown",
   "metadata": {},
   "source": [
    "# Independent features"
   ]
  },
  {
   "cell_type": "code",
   "execution_count": 27,
   "metadata": {
    "collapsed": true
   },
   "outputs": [],
   "source": [
    "# Create diagonal matrices\n",
    "E1_ind = np.zeros((4, 4))\n",
    "E2_ind = np.zeros((4, 4))\n",
    "E3_ind = np.zeros((4, 4))\n",
    "\n",
    "# Insert diagonal values\n",
    "for i in range(4):\n",
    "    E1_ind[i, i] = E1[i, i]\n",
    "    E2_ind[i, i] = E2[i, i]\n",
    "    E3_ind[i, i] = E3[i, i]\n",
    "\n",
    "#Calculate average E   \n",
    "avgE_ind = (E1_ind + E2_ind + E3_ind) / 3"
   ]
  },
  {
   "cell_type": "markdown",
   "metadata": {},
   "source": [
    "## LDA (Independent)"
   ]
  },
  {
   "cell_type": "code",
   "execution_count": 28,
   "metadata": {},
   "outputs": [
    {
     "name": "stdout",
     "output_type": "stream",
     "text": [
      "LDA Classifer (Independent) - Accuracy: 100.00 %, Error: 0.00 %\n"
     ]
    }
   ],
   "source": [
    "error = classify_all_errors (avgE_ind, avgE_ind, avgE_ind, setosaTest, versiTest, virgTest, u1, u2, u3)/30\n",
    "accuracy = 1 - error\n",
    "print (\"LDA Classifer (Independent) - Accuracy:\", format(accuracy*100, '.2f'), \"%, Error:\", format(error*100, '.2f'), \"%\")"
   ]
  },
  {
   "cell_type": "markdown",
   "metadata": {},
   "source": [
    "## QDA (Independent)"
   ]
  },
  {
   "cell_type": "code",
   "execution_count": 29,
   "metadata": {},
   "outputs": [
    {
     "name": "stdout",
     "output_type": "stream",
     "text": [
      "QDA Classifier (Independent) - Accuracy: 100.00 %, Error: 0.00 %\n"
     ]
    }
   ],
   "source": [
    "error = classify_all_errors (E1_ind, E2_ind, E3_ind, setosaTest, versiTest, virgTest, u1, u2, u3)/30\n",
    "accuracy = 1 - error\n",
    "print (\"QDA Classifier (Independent) - Accuracy:\", format(accuracy*100, '.2f'), \"%, Error:\", format(error*100, '.2f'), \"%\")"
   ]
  }
 ],
 "metadata": {
  "kernelspec": {
   "display_name": "Python 3",
   "language": "python",
   "name": "python3"
  },
  "language_info": {
   "codemirror_mode": {
    "name": "ipython",
    "version": 3
   },
   "file_extension": ".py",
   "mimetype": "text/x-python",
   "name": "python",
   "nbconvert_exporter": "python",
   "pygments_lexer": "ipython3",
   "version": "3.6.3"
  }
 },
 "nbformat": 4,
 "nbformat_minor": 2
}
