{
 "cells": [
  {
   "cell_type": "markdown",
   "metadata": {},
   "source": [
    "# Homework 2 LDA & QDA Classifier\n",
    "## Derek Hu | COEN 140 | 2/3/2018"
   ]
  },
  {
   "cell_type": "code",
   "execution_count": 1,
   "metadata": {
    "collapsed": true
   },
   "outputs": [],
   "source": [
    "import numpy as np\n",
    "import pandas as pd\n",
    "import math\n",
    "import sys"
   ]
  },
  {
   "cell_type": "markdown",
   "metadata": {},
   "source": [
    "### Read in data and format as floats"
   ]
  },
  {
   "cell_type": "code",
   "execution_count": 2,
   "metadata": {
    "collapsed": true
   },
   "outputs": [],
   "source": [
    "with open('iris.data', \"r\") as data:\n",
    "    data = data.read().splitlines()\n",
    "data = np.array([tuple(line.split(',')) for line in data])\n",
    "\n",
    "nums = np.zeros((150, 4))\n",
    "\n",
    "for row in range (150):\n",
    "    for col in range (4):\n",
    "        nums[row,col] = float(data[row, col])"
   ]
  },
  {
   "cell_type": "markdown",
   "metadata": {},
   "source": [
    "### Split data into categories and split again into training and test data"
   ]
  },
  {
   "cell_type": "code",
   "execution_count": 3,
   "metadata": {
    "collapsed": true
   },
   "outputs": [],
   "source": [
    "setosaTrain = nums[0:40, 0:4]\n",
    "setosaTest = nums[40:50, 0:4]\n",
    "\n",
    "versiTrain = nums[50:90, 0:4]\n",
    "versiTest = nums[90:100, 0:4]\n",
    "\n",
    "virgTrain = nums[100:140, 0:4]\n",
    "virgTest = nums[140:150, 0:4]"
   ]
  },
  {
   "cell_type": "markdown",
   "metadata": {},
   "source": [
    "### Calculate u and E for each category"
   ]
  },
  {
   "cell_type": "code",
   "execution_count": 4,
   "metadata": {},
   "outputs": [],
   "source": [
    "# Intialize Sum vectors\n",
    "Sum1 = np.zeros((4, 1))\n",
    "Sum2 = np.zeros((4, 1))\n",
    "Sum3 = np.zeros((4, 1))\n",
    "\n",
    "# Calculate sum \n",
    "for col in range (4):\n",
    "    for row in range (40):\n",
    "        Sum1[col, 0] += setosaTrain[row, col]\n",
    "        Sum2[col, 0] += versiTrain[row, col]\n",
    "        Sum3[col, 0] += virgTrain[row, col]\n",
    "\n",
    "u1 = (1 / 40) * Sum1 \n",
    "u2 = (1 / 40) * Sum2\n",
    "u3 = (1 / 40) * Sum3\n",
    "\n",
    "# Initialize outer product matrix\n",
    "outerProd1 = np.zeros((4, 4))\n",
    "outerProd2 = np.zeros((4, 4))\n",
    "outerProd3 = np.zeros((4, 4))\n",
    "\n",
    "for row in range (4):\n",
    "    for col in range (4):\n",
    "        for x in range (40):\n",
    "            outerProd1[row, col] += (setosaTrain[x, row] - u1[row]) * (np.transpose(setosaTrain[x, col]) - np.transpose(u1[col]))\n",
    "            outerProd2[row, col] += (versiTrain[x, row] - u2[row]) * (np.transpose(versiTrain[x, col]) - np.transpose(u2[col]))\n",
    "            outerProd3[row, col] += (virgTrain[x, row] - u3[row]) * (np.transpose(virgTrain[x, col]) - np.transpose(u3[col]))\n",
    "        \n",
    "E1 = (1 / 40) * outerProd1\n",
    "E2 = (1 / 40) * outerProd2\n",
    "E3 = (1 / 40) * outerProd3"
   ]
  },
  {
   "cell_type": "markdown",
   "metadata": {},
   "source": [
    "## LDA Classifier"
   ]
  },
  {
   "cell_type": "markdown",
   "metadata": {},
   "source": [
    "### Set E1 = E2 = E3 by taking their average"
   ]
  },
  {
   "cell_type": "code",
   "execution_count": 5,
   "metadata": {
    "collapsed": true
   },
   "outputs": [],
   "source": [
    "avgE = (E1 + E2 + E3)/3"
   ]
  },
  {
   "cell_type": "markdown",
   "metadata": {},
   "source": [
    "### Enter parameters into Gaussian and determine if classifier is correct or not"
   ]
  },
  {
   "cell_type": "code",
   "execution_count": 6,
   "metadata": {
    "collapsed": true
   },
   "outputs": [],
   "source": [
    "errorCount = 0\n",
    "\n",
    "# Run setosaTest and check if correctly classifies as Setosa\n",
    "for i in range (10):\n",
    "    prob1 = (1 / (2 * math.pi * np.linalg.det(avgE))**(1 / 2)) * math.exp((-1/2) * np.matmul(np.matmul(setosaTest[i] - np.transpose(u1), np.linalg.inv(avgE)), np.transpose(setosaTest[i][np.newaxis]) - u1))\n",
    "    prob2 = (1 / (2 * math.pi * np.linalg.det(avgE))**(1 / 2)) * math.exp((-1/2) * np.matmul(np.matmul(setosaTest[i] - np.transpose(u2), np.linalg.inv(avgE)), np.transpose(setosaTest[i][np.newaxis]) - u2))\n",
    "    prob3 = (1 / (2 * math.pi * np.linalg.det(avgE))**(1 / 2)) * math.exp((-1/2) * np.matmul(np.matmul(setosaTest[i] - np.transpose(u3), np.linalg.inv(avgE)), np.transpose(setosaTest[i][np.newaxis]) - u3))\n",
    "    if max(prob1, prob2, prob3) != prob1:\n",
    "        errorCount += 1\n",
    "\n",
    "# Run versiTest and check if correctly classifies as Versicolor  \n",
    "for i in range (10):\n",
    "    prob1 = (1 / (2 * math.pi * np.linalg.det(avgE))**(1 / 2)) * math.exp((-1/2) * np.matmul(np.matmul(versiTest[i] - np.transpose(u1), np.linalg.inv(avgE)), np.transpose(versiTest[i][np.newaxis]) - u1))\n",
    "    prob2 = (1 / (2 * math.pi * np.linalg.det(avgE))**(1 / 2)) * math.exp((-1/2) * np.matmul(np.matmul(versiTest[i] - np.transpose(u2), np.linalg.inv(avgE)), np.transpose(versiTest[i][np.newaxis]) - u2))\n",
    "    prob3 = (1 / (2 * math.pi * np.linalg.det(avgE))**(1 / 2)) * math.exp((-1/2) * np.matmul(np.matmul(versiTest[i] - np.transpose(u3), np.linalg.inv(avgE)), np.transpose(versiTest[i][np.newaxis]) - u3))\n",
    "    if max(prob1, prob2, prob3) != prob2:\n",
    "        errorCount += 1\n",
    "\n",
    "# Run virgTest and check if correctly classifies as Virginica\n",
    "for i in range (10):\n",
    "    prob1 = (1 / (2 * math.pi * np.linalg.det(avgE))**(1 / 2)) * math.exp((-1/2) * np.matmul(np.matmul(virgTest[i] - np.transpose(u1), np.linalg.inv(avgE)), np.transpose(virgTest[i][np.newaxis]) - u1))\n",
    "    prob2 = (1 / (2 * math.pi * np.linalg.det(avgE))**(1 / 2)) * math.exp((-1/2) * np.matmul(np.matmul(virgTest[i] - np.transpose(u2), np.linalg.inv(avgE)), np.transpose(virgTest[i][np.newaxis]) - u2))\n",
    "    prob3 = (1 / (2 * math.pi * np.linalg.det(avgE))**(1 / 2)) * math.exp((-1/2) * np.matmul(np.matmul(virgTest[i] - np.transpose(u3), np.linalg.inv(avgE)), np.transpose(virgTest[i][np.newaxis]) - u3))\n",
    "    if max(prob1, prob2, prob3) != prob3:\n",
    "        errorCount += 1"
   ]
  },
  {
   "cell_type": "markdown",
   "metadata": {},
   "source": [
    "### Calculate accuracy and error of LDA classifier"
   ]
  },
  {
   "cell_type": "code",
   "execution_count": 7,
   "metadata": {},
   "outputs": [
    {
     "name": "stdout",
     "output_type": "stream",
     "text": [
      "Accuracy: 100.00 %, Error: 0.00 %\n"
     ]
    }
   ],
   "source": [
    "error = errorCount/30\n",
    "accuracy = 1 - error\n",
    "print (\"Accuracy:\", format(accuracy*100, '.2f'), \"%, Error:\", format(error*100, '.2f'), \"%\")"
   ]
  },
  {
   "cell_type": "markdown",
   "metadata": {
    "collapsed": true
   },
   "source": [
    "## QDA Classifier"
   ]
  },
  {
   "cell_type": "markdown",
   "metadata": {},
   "source": [
    "### Enter parameters into Gaussian and determine if classifier is correct or not"
   ]
  },
  {
   "cell_type": "code",
   "execution_count": 8,
   "metadata": {
    "collapsed": true
   },
   "outputs": [],
   "source": [
    "errorCount = 0\n",
    "\n",
    "# Run setosaTest and check if correctly classifies as Setosa\n",
    "for i in range (10):\n",
    "    prob1 = (1 / (2 * math.pi * np.linalg.det(E1))**(1 / 2)) * math.exp((-1/2) * np.matmul(np.matmul(setosaTest[i] - np.transpose(u1), np.linalg.inv(E1)), np.transpose(setosaTest[i][np.newaxis]) - u1))\n",
    "    prob2 = (1 / (2 * math.pi * np.linalg.det(E2))**(1 / 2)) * math.exp((-1/2) * np.matmul(np.matmul(setosaTest[i] - np.transpose(u2), np.linalg.inv(E2)), np.transpose(setosaTest[i][np.newaxis]) - u2))\n",
    "    prob3 = (1 / (2 * math.pi * np.linalg.det(E3))**(1 / 2)) * math.exp((-1/2) * np.matmul(np.matmul(setosaTest[i] - np.transpose(u3), np.linalg.inv(E3)), np.transpose(setosaTest[i][np.newaxis]) - u3))\n",
    "    if max(prob1, prob2, prob3) != prob1:\n",
    "        errorCount += 1\n",
    "\n",
    "# Run versiTest and check if correctly classifies as Versicolor\n",
    "for i in range (10):\n",
    "    prob1 = (1 / (2 * math.pi * np.linalg.det(E1))**(1 / 2)) * math.exp((-1/2) * np.matmul(np.matmul(versiTest[i] - np.transpose(u1), np.linalg.inv(E1)), np.transpose(versiTest[i][np.newaxis]) - u1))\n",
    "    prob2 = (1 / (2 * math.pi * np.linalg.det(E2))**(1 / 2)) * math.exp((-1/2) * np.matmul(np.matmul(versiTest[i] - np.transpose(u2), np.linalg.inv(E2)), np.transpose(versiTest[i][np.newaxis]) - u2))\n",
    "    prob3 = (1 / (2 * math.pi * np.linalg.det(E3))**(1 / 2)) * math.exp((-1/2) * np.matmul(np.matmul(versiTest[i] - np.transpose(u3), np.linalg.inv(E3)), np.transpose(versiTest[i][np.newaxis]) - u3))\n",
    "    if max(prob1, prob2, prob3) != prob2:\n",
    "        errorCount += 1\n",
    "\n",
    "# Run virgTest and check if correctly classifies as Virginica\n",
    "for i in range (10):\n",
    "    prob1 = (1 / (2 * math.pi * np.linalg.det(E1))**(1 / 2)) * math.exp((-1/2) * np.matmul(np.matmul(virgTest[i] - np.transpose(u1), np.linalg.inv(E1)), np.transpose(virgTest[i][np.newaxis]) - u1))\n",
    "    prob2 = (1 / (2 * math.pi * np.linalg.det(E2))**(1 / 2)) * math.exp((-1/2) * np.matmul(np.matmul(virgTest[i] - np.transpose(u2), np.linalg.inv(E2)), np.transpose(virgTest[i][np.newaxis]) - u2))\n",
    "    prob3 = (1 / (2 * math.pi * np.linalg.det(E3))**(1 / 2)) * math.exp((-1/2) * np.matmul(np.matmul(virgTest[i] - np.transpose(u3), np.linalg.inv(E3)), np.transpose(virgTest[i][np.newaxis]) - u3))\n",
    "    if max(prob1, prob2, prob3) != prob3:\n",
    "        errorCount += 1"
   ]
  },
  {
   "cell_type": "markdown",
   "metadata": {},
   "source": [
    "### Calculate accuracy and error of LDA classifier"
   ]
  },
  {
   "cell_type": "code",
   "execution_count": 9,
   "metadata": {},
   "outputs": [
    {
     "name": "stdout",
     "output_type": "stream",
     "text": [
      "Accuracy: 100.00 %, Error: 0.00 %\n"
     ]
    }
   ],
   "source": [
    "error = errorCount/30\n",
    "accuracy = 1 - error\n",
    "print (\"Accuracy:\", format(accuracy*100, '.2f'), \"%, Error:\", format(error*100, '.2f'), \"%\")"
   ]
  },
  {
   "cell_type": "markdown",
   "metadata": {},
   "source": [
    "## Testing if any variables are unimportant"
   ]
  },
  {
   "cell_type": "markdown",
   "metadata": {},
   "source": [
    "### Removing sepal length"
   ]
  },
  {
   "cell_type": "code",
   "execution_count": null,
   "metadata": {
    "collapsed": true
   },
   "outputs": [],
   "source": []
  },
  {
   "cell_type": "markdown",
   "metadata": {},
   "source": [
    "### Removing sepal width"
   ]
  },
  {
   "cell_type": "code",
   "execution_count": null,
   "metadata": {
    "collapsed": true
   },
   "outputs": [],
   "source": []
  },
  {
   "cell_type": "markdown",
   "metadata": {},
   "source": [
    "### Removing petal length"
   ]
  },
  {
   "cell_type": "code",
   "execution_count": null,
   "metadata": {
    "collapsed": true
   },
   "outputs": [],
   "source": []
  },
  {
   "cell_type": "markdown",
   "metadata": {},
   "source": [
    "### Removing petal width"
   ]
  },
  {
   "cell_type": "code",
   "execution_count": null,
   "metadata": {
    "collapsed": true
   },
   "outputs": [],
   "source": []
  }
 ],
 "metadata": {
  "kernelspec": {
   "display_name": "Python 3",
   "language": "python",
   "name": "python3"
  },
  "language_info": {
   "codemirror_mode": {
    "name": "ipython",
    "version": 3
   },
   "file_extension": ".py",
   "mimetype": "text/x-python",
   "name": "python",
   "nbconvert_exporter": "python",
   "pygments_lexer": "ipython3",
   "version": "3.6.3"
  }
 },
 "nbformat": 4,
 "nbformat_minor": 2
}
