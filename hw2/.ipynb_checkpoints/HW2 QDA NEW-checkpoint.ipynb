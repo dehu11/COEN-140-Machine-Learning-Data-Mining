{
 "cells": [
  {
   "cell_type": "markdown",
   "metadata": {},
   "source": [
    "# Homework 2 LDA & QDA Classifier\n",
    "## Derek Hu | COEN 140 | 2/3/2018"
   ]
  },
  {
   "cell_type": "code",
   "execution_count": 1,
   "metadata": {
    "collapsed": true
   },
   "outputs": [],
   "source": [
    "import numpy as np\n",
    "import pandas as pd\n",
    "import math\n",
    "import sys"
   ]
  },
  {
   "cell_type": "markdown",
   "metadata": {},
   "source": [
    "### Read in data and format as floats"
   ]
  },
  {
   "cell_type": "code",
   "execution_count": 2,
   "metadata": {
    "collapsed": true
   },
   "outputs": [],
   "source": [
    "with open('iris.data', \"r\") as data:\n",
    "    data = data.read().splitlines()\n",
    "data = np.array([tuple(line.split(',')) for line in data])\n",
    "\n",
    "nums = np.zeros((150, 4))\n",
    "\n",
    "for row in range (150):\n",
    "    for col in range (4):\n",
    "        nums[row,col] = float(data[row, col])\n",
    "\n",
    "nums = nums.T"
   ]
  },
  {
   "cell_type": "markdown",
   "metadata": {},
   "source": [
    "### Split data into categories and split again into training and test data"
   ]
  },
  {
   "cell_type": "code",
   "execution_count": 3,
   "metadata": {
    "collapsed": true
   },
   "outputs": [],
   "source": [
    "setosaTrain = nums[0:4, 0:40]\n",
    "setosaTest = nums[0:4, 40:50]\n",
    "\n",
    "versiTrain = nums[0:4, 50:90]\n",
    "versiTest = nums[0:4, 90:100]\n",
    "\n",
    "virgTrain = nums[0:4, 100:140]\n",
    "virgTest = nums[0:4, 140:150]"
   ]
  },
  {
   "cell_type": "markdown",
   "metadata": {},
   "source": [
    "### Calculate u and E for each category and avgE for LDA"
   ]
  },
  {
   "cell_type": "code",
   "execution_count": 4,
   "metadata": {
    "collapsed": true
   },
   "outputs": [],
   "source": [
    "# Calculate sum \n",
    "u1 = np.array([np.sum(setosaTrain, axis = 1)]).T/40\n",
    "u2 = np.array([np.sum(versiTrain, axis = 1)]).T/40\n",
    "u3 = np.array([np.sum(virgTrain, axis = 1)]).T/40\n",
    "\n",
    "# Calculate E        \n",
    "E1 = np.matmul((setosaTrain - u1), (setosaTrain - u1).T) / 40\n",
    "E2 = np.matmul((versiTrain - u2), (versiTrain - u2).T) / 40\n",
    "E3 = np.matmul((virgTrain - u3), (virgTrain - u3).T) / 40\n",
    "\n",
    "avgE = (E1 + E2 + E3)/3"
   ]
  },
  {
   "cell_type": "code",
   "execution_count": 5,
   "metadata": {
    "collapsed": true
   },
   "outputs": [],
   "source": [
    "def gausn (E, test, u, i):\n",
    "    return (1 / (2 * math.pi * np.linalg.det(E))**(1 / 2)) * math.exp((-1/2) * np.matmul(np.matmul(test[0:4, i] - u.T, np.linalg.inv(E)), (test[0:4, i] - u.T).T))"
   ]
  },
  {
   "cell_type": "code",
   "execution_count": 6,
   "metadata": {},
   "outputs": [
    {
     "data": {
      "text/plain": [
       "43.273939122255314"
      ]
     },
     "execution_count": 6,
     "metadata": {},
     "output_type": "execute_result"
    }
   ],
   "source": [
    "(1 / (2 * math.pi * np.linalg.det(avgE))**(1 / 2)) * math.exp((-1/2) * np.matmul(np.matmul(setosaTest[0:4, 0] - u1.T, np.linalg.inv(avgE)), (setosaTest[0:4, 0] - u1.T).T))"
   ]
  },
  {
   "cell_type": "code",
   "execution_count": 7,
   "metadata": {},
   "outputs": [],
   "source": [
    "#gausn(avgE, setosaTest, u1, i)"
   ]
  },
  {
   "cell_type": "markdown",
   "metadata": {},
   "source": [
    "## LDA Classifier"
   ]
  },
  {
   "cell_type": "markdown",
   "metadata": {},
   "source": [
    "### Enter parameters into Gaussian and determine if classifier is correct or not"
   ]
  },
  {
   "cell_type": "code",
   "execution_count": 8,
   "metadata": {
    "collapsed": true
   },
   "outputs": [],
   "source": [
    "errorCount = 0\n",
    "\n",
    "# Run setosaTest and check if correctly classifies as Setosa\n",
    "for i in range (10):\n",
    "    prob1 = (1 / (2 * math.pi * np.linalg.det(avgE))**(1 / 2)) * math.exp((-1/2) * np.matmul(np.matmul(setosaTest[0:4, i] - u1.T, np.linalg.inv(avgE)), (setosaTest[0:4, i] - u1.T).T))\n",
    "    prob2 = (1 / (2 * math.pi * np.linalg.det(avgE))**(1 / 2)) * math.exp((-1/2) * np.matmul(np.matmul(setosaTest[0:4, i] - u2.T, np.linalg.inv(avgE)), (setosaTest[0:4, i] - u2.T).T))\n",
    "    prob3 = (1 / (2 * math.pi * np.linalg.det(avgE))**(1 / 2)) * math.exp((-1/2) * np.matmul(np.matmul(setosaTest[0:4, i] - u3.T, np.linalg.inv(avgE)), (setosaTest[0:4, i] - u3.T).T))\n",
    "    if max(prob1, prob2, prob3) != prob1:\n",
    "        errorCount += 1\n",
    "\n",
    "# Run versiTest and check if correctly classifies as Versicolor  \n",
    "for i in range (10):\n",
    "    prob1 = (1 / (2 * math.pi * np.linalg.det(avgE))**(1 / 2)) * math.exp((-1/2) * np.matmul(np.matmul(versiTest[0:4, i] - u1.T, np.linalg.inv(avgE)), (versiTest[0:4, i] - u1.T).T))\n",
    "    prob2 = (1 / (2 * math.pi * np.linalg.det(avgE))**(1 / 2)) * math.exp((-1/2) * np.matmul(np.matmul(versiTest[0:4, i] - u2.T, np.linalg.inv(avgE)), (versiTest[0:4, i] - u2.T).T))\n",
    "    prob3 = (1 / (2 * math.pi * np.linalg.det(avgE))**(1 / 2)) * math.exp((-1/2) * np.matmul(np.matmul(versiTest[0:4, i] - u3.T, np.linalg.inv(avgE)), (versiTest[0:4, i] - u3.T).T))\n",
    "    if max(prob1, prob2, prob3) != prob2:\n",
    "        errorCount += 1\n",
    "\n",
    "# Run virgTest and check if correctly classifies as Virginica\n",
    "for i in range (10):\n",
    "    prob1 = (1 / (2 * math.pi * np.linalg.det(avgE))**(1 / 2)) * math.exp((-1/2) * np.matmul(np.matmul(virgTest[0:4, i] - u1.T, np.linalg.inv(avgE)), (virgTest[0:4, i] - u1.T).T))\n",
    "    prob2 = (1 / (2 * math.pi * np.linalg.det(avgE))**(1 / 2)) * math.exp((-1/2) * np.matmul(np.matmul(virgTest[0:4, i] - u2.T, np.linalg.inv(avgE)), (virgTest[0:4, i] - u2.T).T))\n",
    "    prob3 = (1 / (2 * math.pi * np.linalg.det(avgE))**(1 / 2)) * math.exp((-1/2) * np.matmul(np.matmul(virgTest[0:4, i] - u3.T, np.linalg.inv(avgE)), (virgTest[0:4, i] - u3.T).T))\n",
    "    if max(prob1, prob2, prob3) != prob3:\n",
    "        errorCount += 1"
   ]
  },
  {
   "cell_type": "markdown",
   "metadata": {},
   "source": [
    "### Calculate accuracy and error of LDA classifier"
   ]
  },
  {
   "cell_type": "code",
   "execution_count": 9,
   "metadata": {},
   "outputs": [
    {
     "name": "stdout",
     "output_type": "stream",
     "text": [
      "LDA Classifier - Accuracy: 100.00 %, Error: 0.00 %\n"
     ]
    }
   ],
   "source": [
    "error = errorCount/30\n",
    "accuracy = 1 - error\n",
    "print (\"LDA Classifier - Accuracy:\", format(accuracy*100, '.2f'), \"%, Error:\", format(error*100, '.2f'), \"%\")"
   ]
  },
  {
   "cell_type": "markdown",
   "metadata": {
    "collapsed": true
   },
   "source": [
    "## QDA Classifier"
   ]
  },
  {
   "cell_type": "markdown",
   "metadata": {},
   "source": [
    "### Enter parameters into Gaussian and determine if classifier is correct or not"
   ]
  },
  {
   "cell_type": "code",
   "execution_count": 10,
   "metadata": {
    "collapsed": true
   },
   "outputs": [],
   "source": [
    "errorCount = 0\n",
    "\n",
    "# Run setosaTest and check if correctly classifies as Setosa\n",
    "for i in range (10):\n",
    "    prob1 = (1 / (2 * math.pi * np.linalg.det(E1))**(1 / 2)) * math.exp((-1/2) * np.matmul(np.matmul(setosaTest[0:4, i] - u1.T, np.linalg.inv(E1)), (setosaTest[0:4, i] - u1.T).T))\n",
    "    prob2 = (1 / (2 * math.pi * np.linalg.det(E2))**(1 / 2)) * math.exp((-1/2) * np.matmul(np.matmul(setosaTest[0:4, i] - u2.T, np.linalg.inv(E2)), (setosaTest[0:4, i] - u2.T).T))\n",
    "    prob3 = (1 / (2 * math.pi * np.linalg.det(E3))**(1 / 2)) * math.exp((-1/2) * np.matmul(np.matmul(setosaTest[0:4, i] - u3.T, np.linalg.inv(E3)), (setosaTest[0:4, i] - u3.T).T))\n",
    "    if max(prob1, prob2, prob3) != prob1:\n",
    "        errorCount += 1\n",
    "\n",
    "# Run versiTest and check if correctly classifies as Versicolor\n",
    "for i in range (10):\n",
    "    prob1 = (1 / (2 * math.pi * np.linalg.det(E1))**(1 / 2)) * math.exp((-1/2) * np.matmul(np.matmul(versiTest[0:4, i] - u1.T, np.linalg.inv(E1)), (versiTest[0:4, i] - u1.T).T))\n",
    "    prob2 = (1 / (2 * math.pi * np.linalg.det(E2))**(1 / 2)) * math.exp((-1/2) * np.matmul(np.matmul(versiTest[0:4, i] - u2.T, np.linalg.inv(E2)), (versiTest[0:4, i] - u2.T).T))\n",
    "    prob3 = (1 / (2 * math.pi * np.linalg.det(E3))**(1 / 2)) * math.exp((-1/2) * np.matmul(np.matmul(versiTest[0:4, i] - u3.T, np.linalg.inv(E3)), (versiTest[0:4, i] - u3.T).T)) \n",
    "    if max(prob1, prob2, prob3) != prob2:\n",
    "        errorCount += 1\n",
    "\n",
    "# Run virgTest and check if correctly classifies as Virginica\n",
    "for i in range (10):\n",
    "    prob1 = (1 / (2 * math.pi * np.linalg.det(E1))**(1 / 2)) * math.exp((-1/2) * np.matmul(np.matmul(virgTest[0:4, i] - u1.T, np.linalg.inv(E1)), (virgTest[0:4, i] - u1.T).T))\n",
    "    prob2 = (1 / (2 * math.pi * np.linalg.det(E2))**(1 / 2)) * math.exp((-1/2) * np.matmul(np.matmul(virgTest[0:4, i] - u2.T, np.linalg.inv(E2)), (virgTest[0:4, i] - u2.T).T)) \n",
    "    prob3 = (1 / (2 * math.pi * np.linalg.det(E3))**(1 / 2)) * math.exp((-1/2) * np.matmul(np.matmul(virgTest[0:4, i] - u3.T, np.linalg.inv(E3)), (virgTest[0:4, i] - u3.T).T)) \n",
    "    if max(prob1, prob2, prob3) != prob3:\n",
    "        errorCount += 1"
   ]
  },
  {
   "cell_type": "markdown",
   "metadata": {},
   "source": [
    "### Calculate accuracy and error of QDA classifier"
   ]
  },
  {
   "cell_type": "code",
   "execution_count": 11,
   "metadata": {},
   "outputs": [
    {
     "name": "stdout",
     "output_type": "stream",
     "text": [
      "QDA Classifier - Accuracy: 100.00 %, Error: 0.00 %\n"
     ]
    }
   ],
   "source": [
    "error = errorCount/30\n",
    "accuracy = 1 - error\n",
    "print (\"QDA Classifier - Accuracy:\", format(accuracy*100, '.2f'), \"%, Error:\", format(error*100, '.2f'), \"%\")"
   ]
  },
  {
   "cell_type": "markdown",
   "metadata": {},
   "source": [
    "## Testing if any variables are unimportant"
   ]
  },
  {
   "cell_type": "markdown",
   "metadata": {},
   "source": [
    "### Removing sepal length"
   ]
  },
  {
   "cell_type": "code",
   "execution_count": 12,
   "metadata": {
    "collapsed": true
   },
   "outputs": [],
   "source": [
    "setosaTrain_noSL = np.zeros((3,40))\n",
    "setosaTest_noSL = np.zeros((3,10))\n",
    "versiTrain_noSL = np.zeros((3,40))\n",
    "versiTest_noSL = np.zeros((3,10))\n",
    "virgTrain_noSL = np.zeros((3,40))\n",
    "virgTest_noSL = np.zeros((3,10))\n",
    "\n",
    "setosaTrain_noSL = nums[1:4, 0:40]\n",
    "setosaTest_noSL = nums[1:4, 40:50]\n",
    "\n",
    "versiTrain_noSL = nums[1:4, 50:90]\n",
    "versiTest_noSL = nums[1:4, 90:100]\n",
    "\n",
    "virgTrain_noSL = nums[1:4, 100:140]\n",
    "virgTest_noSL = nums[1:4, 140:150]"
   ]
  },
  {
   "cell_type": "code",
   "execution_count": 13,
   "metadata": {
    "collapsed": true
   },
   "outputs": [],
   "source": [
    "# Calculate sum \n",
    "u1 = np.array([np.sum(setosaTrain_noSL, axis = 1)]).T/40\n",
    "u2 = np.array([np.sum(versiTrain_noSL, axis = 1)]).T/40\n",
    "u3 = np.array([np.sum(virgTrain_noSL, axis = 1)]).T/40\n",
    "\n",
    "# Calculate E        \n",
    "E1 = np.matmul((setosaTrain_noSL - u1), (setosaTrain_noSL - u1).T) / 40\n",
    "E2 = np.matmul((versiTrain_noSL - u2), (versiTrain_noSL - u2).T) / 40\n",
    "E3 = np.matmul((virgTrain_noSL - u3), (virgTrain_noSL - u3).T) / 40\n",
    "\n",
    "avgE = (E1 + E2 + E3)/3"
   ]
  },
  {
   "cell_type": "code",
   "execution_count": 14,
   "metadata": {},
   "outputs": [
    {
     "name": "stdout",
     "output_type": "stream",
     "text": [
      "No Sepal Length (LDA) - Accuracy: 100.00 %, Error: 0.00 %\n"
     ]
    }
   ],
   "source": [
    "errorCount = 0\n",
    "\n",
    "# Run setosaTest and check if correctly classifies as Setosa\n",
    "for i in range (10):\n",
    "    prob1 = (1 / (2 * math.pi * np.linalg.det(avgE))**(1 / 2)) * math.exp((-1/2) * np.matmul(np.matmul(setosaTest_noSL[0:3, i] - u1.T, np.linalg.inv(avgE)), (setosaTest_noSL[0:3, i] - u1.T).T))\n",
    "    prob2 = (1 / (2 * math.pi * np.linalg.det(avgE))**(1 / 2)) * math.exp((-1/2) * np.matmul(np.matmul(setosaTest_noSL[0:3, i] - u2.T, np.linalg.inv(avgE)), (setosaTest_noSL[0:3, i] - u2.T).T))\n",
    "    prob3 = (1 / (2 * math.pi * np.linalg.det(avgE))**(1 / 2)) * math.exp((-1/2) * np.matmul(np.matmul(setosaTest_noSL[0:3, i] - u3.T, np.linalg.inv(avgE)), (setosaTest_noSL[0:3, i] - u3.T).T))\n",
    "    if max(prob1, prob2, prob3) != prob1:\n",
    "        errorCount += 1\n",
    "\n",
    "# Run versiTest and check if correctly classifies as Versicolor  \n",
    "for i in range (10):\n",
    "    prob1 = (1 / (2 * math.pi * np.linalg.det(avgE))**(1 / 2)) * math.exp((-1/2) * np.matmul(np.matmul(versiTest_noSL[0:3, i] - u1.T, np.linalg.inv(avgE)), (versiTest_noSL[0:3, i] - u1.T).T))\n",
    "    prob2 = (1 / (2 * math.pi * np.linalg.det(avgE))**(1 / 2)) * math.exp((-1/2) * np.matmul(np.matmul(versiTest_noSL[0:3, i] - u2.T, np.linalg.inv(avgE)), (versiTest_noSL[0:3, i] - u2.T).T))\n",
    "    prob3 = (1 / (2 * math.pi * np.linalg.det(avgE))**(1 / 2)) * math.exp((-1/2) * np.matmul(np.matmul(versiTest_noSL[0:3, i] - u3.T, np.linalg.inv(avgE)), (versiTest_noSL[0:3, i] - u3.T).T))\n",
    "    if max(prob1, prob2, prob3) != prob2:\n",
    "        errorCount += 1\n",
    "\n",
    "# Run virgTest and check if correctly classifies as Virginica\n",
    "for i in range (10):\n",
    "    prob1 = (1 / (2 * math.pi * np.linalg.det(avgE))**(1 / 2)) * math.exp((-1/2) * np.matmul(np.matmul(virgTest_noSL[0:3, i] - u1.T, np.linalg.inv(avgE)), (virgTest_noSL[0:3, i] - u1.T).T))\n",
    "    prob2 = (1 / (2 * math.pi * np.linalg.det(avgE))**(1 / 2)) * math.exp((-1/2) * np.matmul(np.matmul(virgTest_noSL[0:3, i] - u2.T, np.linalg.inv(avgE)), (virgTest_noSL[0:3, i] - u2.T).T))\n",
    "    prob3 = (1 / (2 * math.pi * np.linalg.det(avgE))**(1 / 2)) * math.exp((-1/2) * np.matmul(np.matmul(virgTest_noSL[0:3, i] - u3.T, np.linalg.inv(avgE)), (virgTest_noSL[0:3, i] - u3.T).T))\n",
    "    if max(prob1, prob2, prob3) != prob3:\n",
    "        errorCount += 1\n",
    "    \n",
    "error = errorCount/30\n",
    "accuracy = 1 - error\n",
    "print (\"No Sepal Length (LDA) - Accuracy:\", format(accuracy*100, '.2f'), \"%, Error:\", format(error*100, '.2f'), \"%\")"
   ]
  },
  {
   "cell_type": "code",
   "execution_count": 15,
   "metadata": {},
   "outputs": [
    {
     "name": "stdout",
     "output_type": "stream",
     "text": [
      "No Sepal Length (QDA) - Accuracy: 100.00 %, Error: 0.00 %\n"
     ]
    }
   ],
   "source": [
    "errorCount = 0\n",
    "\n",
    "# Run setosaTest and check if correctly classifies as Setosa\n",
    "for i in range (10):\n",
    "    prob1 = (1 / (2 * math.pi * np.linalg.det(E1))**(1 / 2)) * math.exp((-1/2) * np.matmul(np.matmul(setosaTest_noSL[0:3, i] - u1.T, np.linalg.inv(E1)), (setosaTest_noSL[0:3, i] - u1.T).T))\n",
    "    prob2 = (1 / (2 * math.pi * np.linalg.det(E2))**(1 / 2)) * math.exp((-1/2) * np.matmul(np.matmul(setosaTest_noSL[0:3, i] - u2.T, np.linalg.inv(E2)), (setosaTest_noSL[0:3, i] - u2.T).T))\n",
    "    prob3 = (1 / (2 * math.pi * np.linalg.det(E3))**(1 / 2)) * math.exp((-1/2) * np.matmul(np.matmul(setosaTest_noSL[0:3, i] - u3.T, np.linalg.inv(E2)), (setosaTest_noSL[0:3, i] - u3.T).T))\n",
    "    if max(prob1, prob2, prob3) != prob1:\n",
    "        errorCount += 1\n",
    "\n",
    "# Run versiTest and check if correctly classifies as Versicolor  \n",
    "for i in range (10):\n",
    "    prob1 = (1 / (2 * math.pi * np.linalg.det(E1))**(1 / 2)) * math.exp((-1/2) * np.matmul(np.matmul(versiTest_noSL[0:3, i] - u1.T, np.linalg.inv(E1)), (versiTest_noSL[0:3, i] - u1.T).T))\n",
    "    prob2 = (1 / (2 * math.pi * np.linalg.det(E2))**(1 / 2)) * math.exp((-1/2) * np.matmul(np.matmul(versiTest_noSL[0:3, i] - u2.T, np.linalg.inv(E2)), (versiTest_noSL[0:3, i] - u2.T).T))\n",
    "    prob3 = (1 / (2 * math.pi * np.linalg.det(E3))**(1 / 2)) * math.exp((-1/2) * np.matmul(np.matmul(versiTest_noSL[0:3, i] - u3.T, np.linalg.inv(E3)), (versiTest_noSL[0:3, i] - u3.T).T))\n",
    "    if max(prob1, prob2, prob3) != prob2:\n",
    "        errorCount += 1\n",
    "\n",
    "# Run virgTest and check if correctly classifies as Virginica\n",
    "for i in range (10):\n",
    "    prob1 = (1 / (2 * math.pi * np.linalg.det(E1))**(1 / 2)) * math.exp((-1/2) * np.matmul(np.matmul(virgTest_noSL[0:3, i] - u1.T, np.linalg.inv(E1)), (virgTest_noSL[0:3, i] - u1.T).T))\n",
    "    prob2 = (1 / (2 * math.pi * np.linalg.det(E2))**(1 / 2)) * math.exp((-1/2) * np.matmul(np.matmul(virgTest_noSL[0:3, i] - u2.T, np.linalg.inv(E2)), (virgTest_noSL[0:3, i] - u2.T).T))\n",
    "    prob3 = (1 / (2 * math.pi * np.linalg.det(E3))**(1 / 2)) * math.exp((-1/2) * np.matmul(np.matmul(virgTest_noSL[0:3, i] - u3.T, np.linalg.inv(E3)), (virgTest_noSL[0:3, i] - u3.T).T))\n",
    "    if max(prob1, prob2, prob3) != prob3:\n",
    "        errorCount += 1\n",
    "    \n",
    "error = errorCount/30\n",
    "accuracy = 1 - error\n",
    "print (\"No Sepal Length (QDA) - Accuracy:\", format(accuracy*100, '.2f'), \"%, Error:\", format(error*100, '.2f'), \"%\")"
   ]
  },
  {
   "cell_type": "markdown",
   "metadata": {},
   "source": [
    "### Removing sepal width"
   ]
  },
  {
   "cell_type": "code",
   "execution_count": 16,
   "metadata": {
    "collapsed": true
   },
   "outputs": [],
   "source": [
    "setosaTrain_noSW = np.zeros((3,40))\n",
    "setosaTest_noSW = np.zeros((3,10))\n",
    "versiTrain_noSW = np.zeros((3,40))\n",
    "versiTest_noSW = np.zeros((3,10))\n",
    "virgTrain_noSW = np.zeros((3,40))\n",
    "virgTest_noSW = np.zeros((3,10))\n",
    "\n",
    "setosaTrain_noSW[0] = nums[0, 0:40]\n",
    "setosaTrain_noSW[1:3] = nums[2:4, 0:40]\n",
    "setosaTest_noSW[0] = nums[0, 40:50]\n",
    "setosaTest_noSW[1:3] = nums[2:4, 40:50]\n",
    "\n",
    "versiTrain_noSW[0] = nums[0, 50:90]\n",
    "versiTrain_noSW[1:3] = nums[2:4, 50:90]\n",
    "versiTest_noSW[0] = nums[0, 90:100]\n",
    "versiTest_noSW[1:3] = nums[2:4, 90:100]\n",
    "\n",
    "virgTrain_noSW[0] = nums[0, 100:140]\n",
    "virgTrain_noSW[1:3] = nums[2:4, 100:140]\n",
    "virgTest_noSW[0] = nums[0, 140:150]\n",
    "virgTest_noSW[1:3] = nums[2:4, 140:150]"
   ]
  },
  {
   "cell_type": "code",
   "execution_count": 17,
   "metadata": {
    "collapsed": true
   },
   "outputs": [],
   "source": [
    "# Calculate sum \n",
    "u1 = np.array([np.sum(setosaTrain_noSW, axis = 1)]).T/40\n",
    "u2 = np.array([np.sum(versiTrain_noSW, axis = 1)]).T/40\n",
    "u3 = np.array([np.sum(virgTrain_noSW, axis = 1)]).T/40\n",
    "\n",
    "# Calculate E        \n",
    "E1 = np.matmul((setosaTrain_noSW - u1), (setosaTrain_noSW - u1).T) / 40\n",
    "E2 = np.matmul((versiTrain_noSW - u2), (versiTrain_noSW - u2).T) / 40\n",
    "E3 = np.matmul((virgTrain_noSW - u3), (virgTrain_noSW - u3).T) / 40\n",
    "\n",
    "avgE = (E1 + E2 + E3)/3"
   ]
  },
  {
   "cell_type": "code",
   "execution_count": 18,
   "metadata": {},
   "outputs": [
    {
     "name": "stdout",
     "output_type": "stream",
     "text": [
      "No Sepal Width (LDA) - Accuracy: 100.00 %, Error: 0.00 %\n"
     ]
    }
   ],
   "source": [
    "errorCount = 0\n",
    "\n",
    "# Run setosaTest and check if correctly classifies as Setosa\n",
    "for i in range (10):\n",
    "    prob1 = (1 / (2 * math.pi * np.linalg.det(avgE))**(1 / 2)) * math.exp((-1/2) * np.matmul(np.matmul(setosaTest_noSW[0:3, i] - u1.T, np.linalg.inv(avgE)), (setosaTest_noSW[0:3, i] - u1.T).T))\n",
    "    prob2 = (1 / (2 * math.pi * np.linalg.det(avgE))**(1 / 2)) * math.exp((-1/2) * np.matmul(np.matmul(setosaTest_noSW[0:3, i] - u2.T, np.linalg.inv(avgE)), (setosaTest_noSW[0:3, i] - u2.T).T))\n",
    "    prob3 = (1 / (2 * math.pi * np.linalg.det(avgE))**(1 / 2)) * math.exp((-1/2) * np.matmul(np.matmul(setosaTest_noSW[0:3, i] - u3.T, np.linalg.inv(avgE)), (setosaTest_noSW[0:3, i] - u3.T).T))\n",
    "    if max(prob1, prob2, prob3) != prob1:\n",
    "        errorCount += 1\n",
    "\n",
    "# Run versiTest and check if correctly classifies as Versicolor  \n",
    "for i in range (10):\n",
    "    prob1 = (1 / (2 * math.pi * np.linalg.det(avgE))**(1 / 2)) * math.exp((-1/2) * np.matmul(np.matmul(versiTest_noSW[0:3, i] - u1.T, np.linalg.inv(avgE)), (versiTest_noSW[0:3, i] - u1.T).T))\n",
    "    prob2 = (1 / (2 * math.pi * np.linalg.det(avgE))**(1 / 2)) * math.exp((-1/2) * np.matmul(np.matmul(versiTest_noSW[0:3, i] - u2.T, np.linalg.inv(avgE)), (versiTest_noSW[0:3, i] - u2.T).T))\n",
    "    prob3 = (1 / (2 * math.pi * np.linalg.det(avgE))**(1 / 2)) * math.exp((-1/2) * np.matmul(np.matmul(versiTest_noSW[0:3, i] - u3.T, np.linalg.inv(avgE)), (versiTest_noSW[0:3, i] - u3.T).T))\n",
    "    if max(prob1, prob2, prob3) != prob2:\n",
    "        errorCount += 1\n",
    "\n",
    "# Run virgTest and check if correctly classifies as Virginica\n",
    "for i in range (10):\n",
    "    prob1 = (1 / (2 * math.pi * np.linalg.det(avgE))**(1 / 2)) * math.exp((-1/2) * np.matmul(np.matmul(virgTest_noSW[0:3, i] - u1.T, np.linalg.inv(avgE)), (virgTest_noSW[0:3, i] - u1.T).T))\n",
    "    prob2 = (1 / (2 * math.pi * np.linalg.det(avgE))**(1 / 2)) * math.exp((-1/2) * np.matmul(np.matmul(virgTest_noSW[0:3, i] - u2.T, np.linalg.inv(avgE)), (virgTest_noSW[0:3, i] - u2.T).T))\n",
    "    prob3 = (1 / (2 * math.pi * np.linalg.det(avgE))**(1 / 2)) * math.exp((-1/2) * np.matmul(np.matmul(virgTest_noSW[0:3, i] - u3.T, np.linalg.inv(avgE)), (virgTest_noSW[0:3, i] - u3.T).T))\n",
    "    if max(prob1, prob2, prob3) != prob3:\n",
    "        errorCount += 1\n",
    "    \n",
    "error = errorCount/30\n",
    "accuracy = 1 - error\n",
    "print (\"No Sepal Width (LDA) - Accuracy:\", format(accuracy*100, '.2f'), \"%, Error:\", format(error*100, '.2f'), \"%\")"
   ]
  },
  {
   "cell_type": "code",
   "execution_count": 19,
   "metadata": {},
   "outputs": [
    {
     "name": "stdout",
     "output_type": "stream",
     "text": [
      "No Sepal Width (QDA) - Accuracy: 100.00 %, Error: 0.00 %\n"
     ]
    }
   ],
   "source": [
    "errorCount = 0\n",
    "\n",
    "# Run setosaTest and check if correctly classifies as Setosa\n",
    "for i in range (10):\n",
    "    prob1 = (1 / (2 * math.pi * np.linalg.det(E1))**(1 / 2)) * math.exp((-1/2) * np.matmul(np.matmul(setosaTest_noSW[0:3, i] - u1.T, np.linalg.inv(E1)), (setosaTest_noSW[0:3, i] - u1.T).T))\n",
    "    prob2 = (1 / (2 * math.pi * np.linalg.det(E2))**(1 / 2)) * math.exp((-1/2) * np.matmul(np.matmul(setosaTest_noSW[0:3, i] - u2.T, np.linalg.inv(E2)), (setosaTest_noSW[0:3, i] - u2.T).T))\n",
    "    prob3 = (1 / (2 * math.pi * np.linalg.det(E3))**(1 / 2)) * math.exp((-1/2) * np.matmul(np.matmul(setosaTest_noSW[0:3, i] - u3.T, np.linalg.inv(E3)), (setosaTest_noSW[0:3, i] - u3.T).T))\n",
    "    if max(prob1, prob2, prob3) != prob1:\n",
    "        errorCount += 1\n",
    "\n",
    "# Run versiTest and check if correctly classifies as Versicolor  \n",
    "for i in range (10):\n",
    "    prob1 = (1 / (2 * math.pi * np.linalg.det(E1))**(1 / 2)) * math.exp((-1/2) * np.matmul(np.matmul(versiTest_noSW[0:3, i] - u1.T, np.linalg.inv(E1)), (versiTest_noSW[0:3, i] - u1.T).T))\n",
    "    prob2 = (1 / (2 * math.pi * np.linalg.det(E2))**(1 / 2)) * math.exp((-1/2) * np.matmul(np.matmul(versiTest_noSW[0:3, i] - u2.T, np.linalg.inv(E2)), (versiTest_noSW[0:3, i] - u2.T).T))\n",
    "    prob3 = (1 / (2 * math.pi * np.linalg.det(E3))**(1 / 2)) * math.exp((-1/2) * np.matmul(np.matmul(versiTest_noSW[0:3, i] - u3.T, np.linalg.inv(E3)), (versiTest_noSW[0:3, i] - u3.T).T))\n",
    "    if max(prob1, prob2, prob3) != prob2:\n",
    "        errorCount += 1\n",
    "\n",
    "# Run virgTest and check if correctly classifies as Virginica\n",
    "for i in range (10):\n",
    "    prob1 = (1 / (2 * math.pi * np.linalg.det(E1))**(1 / 2)) * math.exp((-1/2) * np.matmul(np.matmul(virgTest_noSW[0:3, i] - u1.T, np.linalg.inv(E1)), (virgTest_noSW[0:3, i] - u1.T).T))\n",
    "    prob2 = (1 / (2 * math.pi * np.linalg.det(E2))**(1 / 2)) * math.exp((-1/2) * np.matmul(np.matmul(virgTest_noSW[0:3, i] - u2.T, np.linalg.inv(E2)), (virgTest_noSW[0:3, i] - u2.T).T))\n",
    "    prob3 = (1 / (2 * math.pi * np.linalg.det(E3))**(1 / 2)) * math.exp((-1/2) * np.matmul(np.matmul(virgTest_noSW[0:3, i] - u3.T, np.linalg.inv(E3)), (virgTest_noSW[0:3, i] - u3.T).T))\n",
    "    if max(prob1, prob2, prob3) != prob3:\n",
    "        errorCount += 1\n",
    "    \n",
    "error = errorCount/30\n",
    "accuracy = 1 - error\n",
    "print (\"No Sepal Width (QDA) - Accuracy:\", format(accuracy*100, '.2f'), \"%, Error:\", format(error*100, '.2f'), \"%\")"
   ]
  },
  {
   "cell_type": "markdown",
   "metadata": {},
   "source": [
    "### Removing petal length"
   ]
  },
  {
   "cell_type": "code",
   "execution_count": 20,
   "metadata": {
    "collapsed": true
   },
   "outputs": [],
   "source": [
    "setosaTrain_noPL = np.zeros((3,40))\n",
    "setosaTest_noPL = np.zeros((3,10))\n",
    "versiTrain_noPL = np.zeros((3,40))\n",
    "versiTest_noPL = np.zeros((3,10))\n",
    "virgTrain_noPL = np.zeros((3,40))\n",
    "virgTest_noPL = np.zeros((3,10))\n",
    "\n",
    "setosaTrain_noPL[0:2] = nums[0:2, 0:40]\n",
    "setosaTrain_noPL[2] = nums[3, 0:40]\n",
    "setosaTest_noPL[0:2] = nums[0:2, 40:50]\n",
    "setosaTest_noPL[2] = nums[3, 40:50]\n",
    "\n",
    "versiTrain_noPL[0:2] = nums[0:2, 50:90]\n",
    "versiTrain_noPL[2] = nums[3, 50:90]\n",
    "versiTest_noPL[0:2] = nums[0:2, 90:100]\n",
    "versiTest_noPL[2] = nums[3, 90:100]\n",
    "\n",
    "virgTrain_noPL[0:2] = nums[0:2, 100:140]\n",
    "virgTrain_noPL[2] = nums[3, 100:140]\n",
    "virgTest_noPL[0:2] = nums[0:2, 140:150]\n",
    "virgTest_noPL[2] = nums[3, 140:150]"
   ]
  },
  {
   "cell_type": "code",
   "execution_count": 21,
   "metadata": {
    "collapsed": true
   },
   "outputs": [],
   "source": [
    "# Calculate sum \n",
    "u1 = np.array([np.sum(setosaTrain_noPL, axis = 1)]).T/40\n",
    "u2 = np.array([np.sum(versiTrain_noPL, axis = 1)]).T/40\n",
    "u3 = np.array([np.sum(virgTrain_noPL, axis = 1)]).T/40\n",
    "\n",
    "# Calculate E        \n",
    "E1 = np.matmul((setosaTrain_noPL - u1), (setosaTrain_noPL - u1).T) / 40\n",
    "E2 = np.matmul((versiTrain_noPL - u2), (versiTrain_noPL - u2).T) / 40\n",
    "E3 = np.matmul((virgTrain_noPL - u3), (virgTrain_noPL - u3).T) / 40\n",
    "\n",
    "avgE = (E1 + E2 + E3)/3"
   ]
  },
  {
   "cell_type": "code",
   "execution_count": 22,
   "metadata": {},
   "outputs": [
    {
     "name": "stdout",
     "output_type": "stream",
     "text": [
      "No Petal Length (LDA) - Accuracy: 100.00 %, Error: 0.00 %\n"
     ]
    }
   ],
   "source": [
    "errorCount = 0\n",
    "\n",
    "# Run setosaTest and check if correctly classifies as Setosa\n",
    "for i in range (10):\n",
    "    prob1 = (1 / (2 * math.pi * np.linalg.det(avgE))**(1 / 2)) * math.exp((-1/2) * np.matmul(np.matmul(setosaTest_noPL[0:3, i] - u1.T, np.linalg.inv(avgE)), (setosaTest_noPL[0:3, i] - u1.T).T))\n",
    "    prob2 = (1 / (2 * math.pi * np.linalg.det(avgE))**(1 / 2)) * math.exp((-1/2) * np.matmul(np.matmul(setosaTest_noPL[0:3, i] - u2.T, np.linalg.inv(avgE)), (setosaTest_noPL[0:3, i] - u2.T).T))\n",
    "    prob3 = (1 / (2 * math.pi * np.linalg.det(avgE))**(1 / 2)) * math.exp((-1/2) * np.matmul(np.matmul(setosaTest_noPL[0:3, i] - u3.T, np.linalg.inv(avgE)), (setosaTest_noPL[0:3, i] - u3.T).T))\n",
    "    if max(prob1, prob2, prob3) != prob1:\n",
    "        errorCount += 1\n",
    "\n",
    "# Run versiTest and check if correctly classifies as Versicolor  \n",
    "for i in range (10):\n",
    "    prob1 = (1 / (2 * math.pi * np.linalg.det(avgE))**(1 / 2)) * math.exp((-1/2) * np.matmul(np.matmul(versiTest_noPL[0:3, i] - u1.T, np.linalg.inv(avgE)), (versiTest_noPL[0:3, i] - u1.T).T))\n",
    "    prob2 = (1 / (2 * math.pi * np.linalg.det(avgE))**(1 / 2)) * math.exp((-1/2) * np.matmul(np.matmul(versiTest_noPL[0:3, i] - u2.T, np.linalg.inv(avgE)), (versiTest_noPL[0:3, i] - u2.T).T))\n",
    "    prob3 = (1 / (2 * math.pi * np.linalg.det(avgE))**(1 / 2)) * math.exp((-1/2) * np.matmul(np.matmul(versiTest_noPL[0:3, i] - u3.T, np.linalg.inv(avgE)), (versiTest_noPL[0:3, i] - u3.T).T))\n",
    "    if max(prob1, prob2, prob3) != prob2:\n",
    "        errorCount += 1\n",
    "\n",
    "# Run virgTest and check if correctly classifies as Virginica\n",
    "for i in range (10):\n",
    "    prob1 = (1 / (2 * math.pi * np.linalg.det(avgE))**(1 / 2)) * math.exp((-1/2) * np.matmul(np.matmul(virgTest_noPL[0:3, i] - u1.T, np.linalg.inv(avgE)), (virgTest_noPL[0:3, i] - u1.T).T))\n",
    "    prob2 = (1 / (2 * math.pi * np.linalg.det(avgE))**(1 / 2)) * math.exp((-1/2) * np.matmul(np.matmul(virgTest_noPL[0:3, i] - u2.T, np.linalg.inv(avgE)), (virgTest_noPL[0:3, i] - u2.T).T))\n",
    "    prob3 = (1 / (2 * math.pi * np.linalg.det(avgE))**(1 / 2)) * math.exp((-1/2) * np.matmul(np.matmul(virgTest_noPL[0:3, i] - u3.T, np.linalg.inv(avgE)), (virgTest_noPL[0:3, i] - u3.T).T))\n",
    "    if max(prob1, prob2, prob3) != prob3:\n",
    "        errorCount += 1\n",
    "    \n",
    "error = errorCount/30\n",
    "accuracy = 1 - error\n",
    "print (\"No Petal Length (LDA) - Accuracy:\", format(accuracy*100, '.2f'), \"%, Error:\", format(error*100, '.2f'), \"%\")"
   ]
  },
  {
   "cell_type": "code",
   "execution_count": 23,
   "metadata": {},
   "outputs": [
    {
     "name": "stdout",
     "output_type": "stream",
     "text": [
      "No Petal Length (QDA) - Accuracy: 100.00 %, Error: 0.00 %\n"
     ]
    }
   ],
   "source": [
    "errorCount = 0\n",
    "\n",
    "# Run setosaTest and check if correctly classifies as Setosa\n",
    "for i in range (10):\n",
    "    prob1 = (1 / (2 * math.pi * np.linalg.det(E1))**(1 / 2)) * math.exp((-1/2) * np.matmul(np.matmul(setosaTest_noPL[0:3, i] - u1.T, np.linalg.inv(E1)), (setosaTest_noPL[0:3, i] - u1.T).T))\n",
    "    prob2 = (1 / (2 * math.pi * np.linalg.det(E2))**(1 / 2)) * math.exp((-1/2) * np.matmul(np.matmul(setosaTest_noPL[0:3, i] - u2.T, np.linalg.inv(E2)), (setosaTest_noPL[0:3, i] - u2.T).T))\n",
    "    prob3 = (1 / (2 * math.pi * np.linalg.det(E3))**(1 / 2)) * math.exp((-1/2) * np.matmul(np.matmul(setosaTest_noPL[0:3, i] - u3.T, np.linalg.inv(E3)), (setosaTest_noPL[0:3, i] - u3.T).T))\n",
    "    if max(prob1, prob2, prob3) != prob1:\n",
    "        errorCount += 1\n",
    "\n",
    "# Run versiTest and check if correctly classifies as Versicolor  \n",
    "for i in range (10):\n",
    "    prob1 = (1 / (2 * math.pi * np.linalg.det(E1))**(1 / 2)) * math.exp((-1/2) * np.matmul(np.matmul(versiTest_noPL[0:3, i] - u1.T, np.linalg.inv(E1)), (versiTest_noPL[0:3, i] - u1.T).T))\n",
    "    prob2 = (1 / (2 * math.pi * np.linalg.det(E2))**(1 / 2)) * math.exp((-1/2) * np.matmul(np.matmul(versiTest_noPL[0:3, i] - u2.T, np.linalg.inv(E2)), (versiTest_noPL[0:3, i] - u2.T).T))\n",
    "    prob3 = (1 / (2 * math.pi * np.linalg.det(E3))**(1 / 2)) * math.exp((-1/2) * np.matmul(np.matmul(versiTest_noPL[0:3, i] - u3.T, np.linalg.inv(E3)), (versiTest_noPL[0:3, i] - u3.T).T))\n",
    "    if max(prob1, prob2, prob3) != prob2:\n",
    "        errorCount += 1\n",
    "\n",
    "# Run virgTest and check if correctly classifies as Virginica\n",
    "for i in range (10):\n",
    "    prob1 = (1 / (2 * math.pi * np.linalg.det(E1))**(1 / 2)) * math.exp((-1/2) * np.matmul(np.matmul(virgTest_noPL[0:3, i] - u1.T, np.linalg.inv(E1)), (virgTest_noPL[0:3, i] - u1.T).T))\n",
    "    prob2 = (1 / (2 * math.pi * np.linalg.det(E2))**(1 / 2)) * math.exp((-1/2) * np.matmul(np.matmul(virgTest_noPL[0:3, i] - u2.T, np.linalg.inv(E2)), (virgTest_noPL[0:3, i] - u2.T).T))\n",
    "    prob3 = (1 / (2 * math.pi * np.linalg.det(E3))**(1 / 2)) * math.exp((-1/2) * np.matmul(np.matmul(virgTest_noPL[0:3, i] - u3.T, np.linalg.inv(E3)), (virgTest_noPL[0:3, i] - u3.T).T))\n",
    "    if max(prob1, prob2, prob3) != prob3:\n",
    "        errorCount += 1\n",
    "    \n",
    "error = errorCount/30\n",
    "accuracy = 1 - error\n",
    "print (\"No Petal Length (QDA) - Accuracy:\", format(accuracy*100, '.2f'), \"%, Error:\", format(error*100, '.2f'), \"%\")"
   ]
  },
  {
   "cell_type": "markdown",
   "metadata": {},
   "source": [
    "### Removing petal width"
   ]
  },
  {
   "cell_type": "code",
   "execution_count": 24,
   "metadata": {
    "collapsed": true
   },
   "outputs": [],
   "source": [
    "setosaTrain_noPW = nums[0:3, 0:40]\n",
    "setosaTest_noPW = nums[0:3, 40:50]\n",
    "\n",
    "versiTrain_noPW = nums[0:3, 50:90]\n",
    "versiTest_noPW = nums[0:3, 90:100]\n",
    "\n",
    "virgTrain_noPW = nums[0:3, 100:140]\n",
    "virgTest_noPW = nums[0:3, 140:150]"
   ]
  },
  {
   "cell_type": "code",
   "execution_count": 32,
   "metadata": {},
   "outputs": [],
   "source": [
    "# Calculate sum \n",
    "u1 = np.array([np.sum(setosaTrain_noPW, axis = 1)]).T/40\n",
    "u2 = np.array([np.sum(versiTrain_noPW, axis = 1)]).T/40\n",
    "u3 = np.array([np.sum(virgTrain_noPW, axis = 1)]).T/40\n",
    "\n",
    "# Calculate E        \n",
    "E1 = np.matmul((setosaTrain_noPW - u1), (setosaTrain_noPW - u1).T) / 40\n",
    "E2 = np.matmul((versiTrain_noPW - u2), (versiTrain_noPW - u2).T) / 40\n",
    "E3 = np.matmul((virgTrain_noPW - u3), (virgTrain_noPW - u3).T) / 40\n",
    "\n",
    "avgE = (E1 + E2 + E3)/3"
   ]
  },
  {
   "cell_type": "code",
   "execution_count": 26,
   "metadata": {},
   "outputs": [
    {
     "name": "stdout",
     "output_type": "stream",
     "text": [
      "Petal Width (LDA) - Accuracy: 96.67 %, Error: 3.33 %\n"
     ]
    }
   ],
   "source": [
    "errorCount = 0\n",
    "\n",
    "# Run setosaTest and check if correctly classifies as Setosa\n",
    "for i in range (10):\n",
    "    prob1 = (1 / (2 * math.pi * np.linalg.det(avgE))**(1 / 2)) * math.exp((-1/2) * np.matmul(np.matmul(setosaTest_noPW[0:3, i] - u1.T, np.linalg.inv(avgE)), (setosaTest_noPW[0:3, i] - u1.T).T))\n",
    "    prob2 = (1 / (2 * math.pi * np.linalg.det(avgE))**(1 / 2)) * math.exp((-1/2) * np.matmul(np.matmul(setosaTest_noPW[0:3, i] - u2.T, np.linalg.inv(avgE)), (setosaTest_noPW[0:3, i] - u2.T).T))\n",
    "    prob3 = (1 / (2 * math.pi * np.linalg.det(avgE))**(1 / 2)) * math.exp((-1/2) * np.matmul(np.matmul(setosaTest_noPW[0:3, i] - u3.T, np.linalg.inv(avgE)), (setosaTest_noPW[0:3, i] - u3.T).T))\n",
    "    if max(prob1, prob2, prob3) != prob1:\n",
    "        errorCount += 1\n",
    "\n",
    "# Run versiTest and check if correctly classifies as Versicolor  \n",
    "for i in range (10):\n",
    "    prob1 = (1 / (2 * math.pi * np.linalg.det(avgE))**(1 / 2)) * math.exp((-1/2) * np.matmul(np.matmul(versiTest_noPW[0:3, i] - u1.T, np.linalg.inv(avgE)), (versiTest_noPW[0:3, i] - u1.T).T))\n",
    "    prob2 = (1 / (2 * math.pi * np.linalg.det(avgE))**(1 / 2)) * math.exp((-1/2) * np.matmul(np.matmul(versiTest_noPW[0:3, i] - u2.T, np.linalg.inv(avgE)), (versiTest_noPW[0:3, i] - u2.T).T))\n",
    "    prob3 = (1 / (2 * math.pi * np.linalg.det(avgE))**(1 / 2)) * math.exp((-1/2) * np.matmul(np.matmul(versiTest_noPW[0:3, i] - u3.T, np.linalg.inv(avgE)), (versiTest_noPW[0:3, i] - u3.T).T))\n",
    "    if max(prob1, prob2, prob3) != prob2:\n",
    "        errorCount += 1\n",
    "\n",
    "# Run virgTest and check if correctly classifies as Virginica\n",
    "for i in range (10):\n",
    "    prob1 = (1 / (2 * math.pi * np.linalg.det(avgE))**(1 / 2)) * math.exp((-1/2) * np.matmul(np.matmul(virgTest_noPW[0:3, i] - u1.T, np.linalg.inv(avgE)), (virgTest_noPW[0:3, i] - u1.T).T))\n",
    "    prob2 = (1 / (2 * math.pi * np.linalg.det(avgE))**(1 / 2)) * math.exp((-1/2) * np.matmul(np.matmul(virgTest_noPW[0:3, i] - u2.T, np.linalg.inv(avgE)), (virgTest_noPW[0:3, i] - u2.T).T))\n",
    "    prob3 = (1 / (2 * math.pi * np.linalg.det(avgE))**(1 / 2)) * math.exp((-1/2) * np.matmul(np.matmul(virgTest_noPW[0:3, i] - u3.T, np.linalg.inv(avgE)), (virgTest_noPW[0:3, i] - u3.T).T))\n",
    "    if max(prob1, prob2, prob3) != prob3:\n",
    "        errorCount += 1\n",
    "    \n",
    "error = errorCount/30\n",
    "accuracy = 1 - error\n",
    "print (\"Petal Width (LDA) - Accuracy:\", format(accuracy*100, '.2f'), \"%, Error:\", format(error*100, '.2f'), \"%\")"
   ]
  },
  {
   "cell_type": "code",
   "execution_count": 27,
   "metadata": {},
   "outputs": [
    {
     "name": "stdout",
     "output_type": "stream",
     "text": [
      "Petal Width (QDA) - Accuracy: 96.67 %, Error: 3.33 %\n"
     ]
    }
   ],
   "source": [
    "errorCount = 0\n",
    "\n",
    "# Run setosaTest and check if correctly classifies as Setosa\n",
    "for i in range (10):\n",
    "    prob1 = (1 / (2 * math.pi * np.linalg.det(E1))**(1 / 2)) * math.exp((-1/2) * np.matmul(np.matmul(setosaTest_noPW[0:3, i] - u1.T, np.linalg.inv(E1)), (setosaTest_noPW[0:3, i] - u1.T).T))\n",
    "    prob2 = (1 / (2 * math.pi * np.linalg.det(E2))**(1 / 2)) * math.exp((-1/2) * np.matmul(np.matmul(setosaTest_noPW[0:3, i] - u2.T, np.linalg.inv(E2)), (setosaTest_noPW[0:3, i] - u2.T).T))\n",
    "    prob3 = (1 / (2 * math.pi * np.linalg.det(E3))**(1 / 2)) * math.exp((-1/2) * np.matmul(np.matmul(setosaTest_noPW[0:3, i] - u3.T, np.linalg.inv(E3)), (setosaTest_noPW[0:3, i] - u3.T).T))\n",
    "    if max(prob1, prob2, prob3) != prob1:\n",
    "        errorCount += 1\n",
    "        \n",
    "# Run versiTest and check if correctly classifies as Versicolor  \n",
    "for i in range (10):\n",
    "    prob1 = (1 / (2 * math.pi * np.linalg.det(E1))**(1 / 2)) * math.exp((-1/2) * np.matmul(np.matmul(versiTest_noPW[0:3, i] - u1.T, np.linalg.inv(E1)), (versiTest_noPW[0:3, i] - u1.T).T))\n",
    "    prob2 = (1 / (2 * math.pi * np.linalg.det(E2))**(1 / 2)) * math.exp((-1/2) * np.matmul(np.matmul(versiTest_noPW[0:3, i] - u2.T, np.linalg.inv(E2)), (versiTest_noPW[0:3, i] - u2.T).T))\n",
    "    prob3 = (1 / (2 * math.pi * np.linalg.det(E3))**(1 / 2)) * math.exp((-1/2) * np.matmul(np.matmul(versiTest_noPW[0:3, i] - u3.T, np.linalg.inv(E3)), (versiTest_noPW[0:3, i] - u3.T).T))\n",
    "    if max(prob1, prob2, prob3) != prob2:     \n",
    "        errorCount +=1\n",
    "\n",
    "# Run virgTest and check if correctly classifies as Virginica\n",
    "for i in range (10):\n",
    "    prob1 = (1 / (2 * math.pi * np.linalg.det(E1))**(1 / 2)) * math.exp((-1/2) * np.matmul(np.matmul(virgTest_noPW[0:3, i] - u1.T, np.linalg.inv(E1)), (virgTest_noPW[0:3, i] - u1.T).T))\n",
    "    prob2 = (1 / (2 * math.pi * np.linalg.det(E2))**(1 / 2)) * math.exp((-1/2) * np.matmul(np.matmul(virgTest_noPW[0:3, i] - u2.T, np.linalg.inv(E2)), (virgTest_noPW[0:3, i] - u2.T).T))\n",
    "    prob3 = (1 / (2 * math.pi * np.linalg.det(E3))**(1 / 2)) * math.exp((-1/2) * np.matmul(np.matmul(virgTest_noPW[0:3, i] - u3.T, np.linalg.inv(E3)), (virgTest_noPW[0:3, i] - u3.T).T))\n",
    "    if max(prob1, prob2, prob3) != prob3:\n",
    "        errorCount += 1\n",
    "\n",
    "error = errorCount/30\n",
    "accuracy = 1 - error\n",
    "print (\"Petal Width (QDA) - Accuracy:\", format(accuracy*100, '.2f'), \"%, Error:\", format(error*100, '.2f'), \"%\")"
   ]
  },
  {
   "cell_type": "markdown",
   "metadata": {},
   "source": [
    "## Independent features"
   ]
  },
  {
   "cell_type": "code",
   "execution_count": 28,
   "metadata": {
    "collapsed": true
   },
   "outputs": [],
   "source": [
    "# Calculate sum \n",
    "u1 = np.array([np.sum(setosaTrain, axis = 1)]).T/40\n",
    "u2 = np.array([np.sum(versiTrain, axis = 1)]).T/40\n",
    "u3 = np.array([np.sum(virgTrain, axis = 1)]).T/40\n",
    "\n",
    "# Calculate E        \n",
    "E1 = np.matmul((setosaTrain - u1), (setosaTrain - u1).T) / 40\n",
    "E2 = np.matmul((versiTrain - u2), (versiTrain - u2).T) / 40\n",
    "E3 = np.matmul((virgTrain - u3), (virgTrain - u3).T) / 40\n",
    "\n",
    "E1_ind = np.zeros((4, 4))\n",
    "E2_ind = np.zeros((4, 4))\n",
    "E3_ind = np.zeros((4, 4))\n",
    "\n",
    "for i in range(4):\n",
    "    E1_ind[i, i] = E1[i, i]\n",
    "    E2_ind[i, i] = E2[i, i]\n",
    "    E3_ind[i, i] = E3[i, i]\n",
    "    \n",
    "avgE_ind = (E1_ind + E2_ind + E3_ind) / 3"
   ]
  },
  {
   "cell_type": "markdown",
   "metadata": {},
   "source": [
    "### LDA (Independent)"
   ]
  },
  {
   "cell_type": "code",
   "execution_count": 29,
   "metadata": {},
   "outputs": [
    {
     "name": "stdout",
     "output_type": "stream",
     "text": [
      "LDA (Independent) - Accuracy: 100.00 %, Error: 0.00 %\n"
     ]
    }
   ],
   "source": [
    "errorCount = 0\n",
    "\n",
    "# Run setosaTest and check if correctly classifies as Setosa\n",
    "for i in range (10):\n",
    "    prob1 = (1 / (2 * math.pi * np.linalg.det(avgE_ind))**(1 / 2)) * math.exp((-1/2) * np.matmul(np.matmul(setosaTest[0:4, i] - u1.T, np.linalg.inv(avgE_ind)), (setosaTest[0:4, i] - u1.T).T))\n",
    "    prob2 = (1 / (2 * math.pi * np.linalg.det(avgE_ind))**(1 / 2)) * math.exp((-1/2) * np.matmul(np.matmul(setosaTest[0:4, i] - u2.T, np.linalg.inv(avgE_ind)), (setosaTest[0:4, i] - u2.T).T))\n",
    "    prob3 = (1 / (2 * math.pi * np.linalg.det(avgE_ind))**(1 / 2)) * math.exp((-1/2) * np.matmul(np.matmul(setosaTest[0:4, i] - u3.T, np.linalg.inv(avgE_ind)), (setosaTest[0:4, i] - u3.T).T))\n",
    "    if max(prob1, prob2, prob3) != prob1:\n",
    "        errorCount += 1\n",
    "\n",
    "# Run versiTest and check if correctly classifies as Versicolor  \n",
    "for i in range (10):\n",
    "    prob1 = (1 / (2 * math.pi * np.linalg.det(avgE_ind))**(1 / 2)) * math.exp((-1/2) * np.matmul(np.matmul(versiTest[0:4, i] - u1.T, np.linalg.inv(avgE_ind)), (versiTest[0:4, i] - u1.T).T))\n",
    "    prob2 = (1 / (2 * math.pi * np.linalg.det(avgE_ind))**(1 / 2)) * math.exp((-1/2) * np.matmul(np.matmul(versiTest[0:4, i] - u2.T, np.linalg.inv(avgE_ind)), (versiTest[0:4, i] - u2.T).T))\n",
    "    prob3 = (1 / (2 * math.pi * np.linalg.det(avgE_ind))**(1 / 2)) * math.exp((-1/2) * np.matmul(np.matmul(versiTest[0:4, i] - u3.T, np.linalg.inv(avgE_ind)), (versiTest[0:4, i] - u3.T).T))\n",
    "    if max(prob1, prob2, prob3) != prob2:\n",
    "        errorCount += 1\n",
    "\n",
    "# Run virgTest and check if correctly classifies as Virginica\n",
    "for i in range (10):\n",
    "    prob1 = (1 / (2 * math.pi * np.linalg.det(avgE_ind))**(1 / 2)) * math.exp((-1/2) * np.matmul(np.matmul(virgTest[0:4, i] - u1.T, np.linalg.inv(avgE_ind)), (virgTest[0:4, i] - u1.T).T))\n",
    "    prob2 = (1 / (2 * math.pi * np.linalg.det(avgE_ind))**(1 / 2)) * math.exp((-1/2) * np.matmul(np.matmul(virgTest[0:4, i] - u2.T, np.linalg.inv(avgE_ind)), (virgTest[0:4, i] - u2.T).T))\n",
    "    prob3 = (1 / (2 * math.pi * np.linalg.det(avgE_ind))**(1 / 2)) * math.exp((-1/2) * np.matmul(np.matmul(virgTest[0:4, i] - u3.T, np.linalg.inv(avgE_ind)), (virgTest[0:4, i] - u3.T).T))\n",
    "    if max(prob1, prob2, prob3) != prob3:\n",
    "        errorCount += 1\n",
    "        \n",
    "error = errorCount/30\n",
    "accuracy = 1 - error\n",
    "print (\"LDA (Independent) - Accuracy:\", format(accuracy*100, '.2f'), \"%, Error:\", format(error*100, '.2f'), \"%\")"
   ]
  },
  {
   "cell_type": "markdown",
   "metadata": {},
   "source": [
    "### QDA (Independent)"
   ]
  },
  {
   "cell_type": "code",
   "execution_count": 30,
   "metadata": {},
   "outputs": [
    {
     "name": "stdout",
     "output_type": "stream",
     "text": [
      "QDA (Independent) - Accuracy: 100.00 %, Error: 0.00 %\n"
     ]
    }
   ],
   "source": [
    "errorCount = 0\n",
    "\n",
    "# Run setosaTest and check if correctly classifies as Setosa\n",
    "for i in range (10):\n",
    "    prob1 = (1 / (2 * math.pi * np.linalg.det(E1_ind))**(1 / 2)) * math.exp((-1/2) * np.matmul(np.matmul(setosaTest[0:4, i] - u1.T, np.linalg.inv(E1_ind)), (setosaTest[0:4, i] - u1.T).T))\n",
    "    prob2 = (1 / (2 * math.pi * np.linalg.det(E2_ind))**(1 / 2)) * math.exp((-1/2) * np.matmul(np.matmul(setosaTest[0:4, i] - u2.T, np.linalg.inv(E2_ind)), (setosaTest[0:4, i] - u2.T).T))\n",
    "    prob3 = (1 / (2 * math.pi * np.linalg.det(E3_ind))**(1 / 2)) * math.exp((-1/2) * np.matmul(np.matmul(setosaTest[0:4, i] - u3.T, np.linalg.inv(E3_ind)), (setosaTest[0:4, i] - u3.T).T))\n",
    "    if max(prob1, prob2, prob3) != prob1:\n",
    "        errorCount += 1\n",
    "\n",
    "# Run versiTest and check if correctly classifies as Versicolor\n",
    "for i in range (10):\n",
    "    prob1 = (1 / (2 * math.pi * np.linalg.det(E1_ind))**(1 / 2)) * math.exp((-1/2) * np.matmul(np.matmul(versiTest[0:4, i] - u1.T, np.linalg.inv(E1_ind)), (versiTest[0:4, i] - u1.T).T))\n",
    "    prob2 = (1 / (2 * math.pi * np.linalg.det(E2_ind))**(1 / 2)) * math.exp((-1/2) * np.matmul(np.matmul(versiTest[0:4, i] - u2.T, np.linalg.inv(E2_ind)), (versiTest[0:4, i] - u2.T).T))\n",
    "    prob3 = (1 / (2 * math.pi * np.linalg.det(E3_ind))**(1 / 2)) * math.exp((-1/2) * np.matmul(np.matmul(versiTest[0:4, i] - u3.T, np.linalg.inv(E3_ind)), (versiTest[0:4, i] - u3.T).T)) \n",
    "    if max(prob1, prob2, prob3) != prob2:\n",
    "        errorCount += 1\n",
    "\n",
    "# Run virgTest and check if correctly classifies as Virginica\n",
    "for i in range (10):\n",
    "    prob1 = (1 / (2 * math.pi * np.linalg.det(E1_ind))**(1 / 2)) * math.exp((-1/2) * np.matmul(np.matmul(virgTest[0:4, i] - u1.T, np.linalg.inv(E1_ind)), (virgTest[0:4, i] - u1.T).T))\n",
    "    prob2 = (1 / (2 * math.pi * np.linalg.det(E2_ind))**(1 / 2)) * math.exp((-1/2) * np.matmul(np.matmul(virgTest[0:4, i] - u2.T, np.linalg.inv(E2_ind)), (virgTest[0:4, i] - u2.T).T)) \n",
    "    prob3 = (1 / (2 * math.pi * np.linalg.det(E3_ind))**(1 / 2)) * math.exp((-1/2) * np.matmul(np.matmul(virgTest[0:4, i] - u3.T, np.linalg.inv(E3_ind)), (virgTest[0:4, i] - u3.T).T)) \n",
    "    if max(prob1, prob2, prob3) != prob3:\n",
    "        errorCount += 1\n",
    "        \n",
    "error = errorCount/30\n",
    "accuracy = 1 - error\n",
    "print (\"QDA (Independent) - Accuracy:\", format(accuracy*100, '.2f'), \"%, Error:\", format(error*100, '.2f'), \"%\")"
   ]
  },
  {
   "cell_type": "code",
   "execution_count": null,
   "metadata": {
    "collapsed": true
   },
   "outputs": [],
   "source": []
  }
 ],
 "metadata": {
  "kernelspec": {
   "display_name": "Python 3",
   "language": "python",
   "name": "python3"
  },
  "language_info": {
   "codemirror_mode": {
    "name": "ipython",
    "version": 3
   },
   "file_extension": ".py",
   "mimetype": "text/x-python",
   "name": "python",
   "nbconvert_exporter": "python",
   "pygments_lexer": "ipython3",
   "version": "3.6.3"
  }
 },
 "nbformat": 4,
 "nbformat_minor": 2
}
