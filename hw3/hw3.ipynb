{
 "cells": [
  {
   "cell_type": "markdown",
   "metadata": {},
   "source": [
    "# Homework 3 | Derek Hu | COEN 140"
   ]
  },
  {
   "cell_type": "code",
   "execution_count": 1,
   "metadata": {
    "collapsed": true
   },
   "outputs": [],
   "source": [
    "import numpy as np\n",
    "import math"
   ]
  },
  {
   "cell_type": "code",
   "execution_count": 2,
   "metadata": {},
   "outputs": [],
   "source": [
    "dataTrain = np.loadtxt('crime-train.txt', delimiter = '\\t', skiprows = 1)\n",
    "dataTest = np.loadtxt('crime-test.txt', delimiter = '\\t', skiprows = 1)\n",
    "\n",
    "xTrain = dataTrain[:, 1:]\n",
    "# Append 1s to the end of xTrain\n",
    "ones = np.ones(len(xTrain))\n",
    "xTrain = np.column_stack((xTrain, ones))\n",
    "yTrain = dataTrain[:, 0:1]\n",
    "\n",
    "xTest = dataTest[:, 1:]\n",
    "# Append 1s to the end of xTest\n",
    "ones = np.ones(len(xTest))\n",
    "xTest = np.column_stack((xTest, ones))\n",
    "yTest = dataTest[:, 0:1]"
   ]
  },
  {
   "cell_type": "markdown",
   "metadata": {},
   "source": [
    "## Linear Regression w/ Closed Form Solution"
   ]
  },
  {
   "cell_type": "code",
   "execution_count": 3,
   "metadata": {},
   "outputs": [],
   "source": [
    "# Perform linear regression and return prediction for \"test\" data\n",
    "def linear_regression(x, y, test):\n",
    "    left = np.linalg.inv(np.dot(x.T, x))\n",
    "    right = np.dot(x.T, y)\n",
    "    w = np.dot(left, right)\n",
    "    \n",
    "    prediction = []\n",
    "    \n",
    "    for i in test:\n",
    "        prediction.append(np.dot(w.T, i))\n",
    "        \n",
    "    return prediction"
   ]
  },
  {
   "cell_type": "code",
   "execution_count": 4,
   "metadata": {},
   "outputs": [],
   "source": [
    "# Compute RMSE from predicted y and actual y\n",
    "def get_RMSE(prediction, y):\n",
    "    n = len(prediction)\n",
    "    diff = prediction - y\n",
    "    Sum = 0\n",
    "\n",
    "    for i in diff:\n",
    "        Sum += (i ** 2)\n",
    "\n",
    "    RMSE = math.sqrt(Sum / n)\n",
    "    \n",
    "    return RMSE"
   ]
  },
  {
   "cell_type": "code",
   "execution_count": 5,
   "metadata": {},
   "outputs": [
    {
     "name": "stdout",
     "output_type": "stream",
     "text": [
      "Training Linear RMSE is  0.12768967421762198\n",
      "Testing Linear RMSE is  0.1458346449094983\n"
     ]
    }
   ],
   "source": [
    "# Make predictions and calculate RMSE for training data\n",
    "train_prediction = linear_regression(xTrain, yTrain, xTrain)\n",
    "train_RMSE = get_RMSE(train_prediction, yTrain)\n",
    "print(\"Training Linear RMSE is \", train_RMSE)\n",
    "\n",
    "# Make predictions and calculate RMSE for test data\n",
    "test_prediction = linear_regression(xTrain, yTrain, xTest)\n",
    "test_RMSE = get_RMSE(test_prediction, yTest)\n",
    "print(\"Testing Linear RMSE is \", test_RMSE)"
   ]
  },
  {
   "cell_type": "markdown",
   "metadata": {},
   "source": [
    "## Ridge Regression w/ Closed Form Solution & K-Fold Cross Validation"
   ]
  },
  {
   "cell_type": "code",
   "execution_count": 6,
   "metadata": {
    "collapsed": true
   },
   "outputs": [],
   "source": [
    "# Perform ridge regression and return prediction for \"test\" data\n",
    "def ridge_regression(x, y, test, Lambda):\n",
    "    left = np.linalg.inv(np.dot(x.T, x) + (Lambda * np.identity(len(x.T))))\n",
    "    right = np.dot(x.T, y)\n",
    "    w = np.dot(left, right)\n",
    "    \n",
    "    prediction = []\n",
    "    \n",
    "    for i in test:\n",
    "        prediction.append(np.dot(w.T, i))\n",
    "        \n",
    "    return prediction"
   ]
  },
  {
   "cell_type": "code",
   "execution_count": 7,
   "metadata": {},
   "outputs": [
    {
     "name": "stdout",
     "output_type": "stream",
     "text": [
      "Lambda 400.0 : 0.149512776191\n",
      "Lambda 200.0 : 0.140694018453\n",
      "Lambda 100.0 : 0.137276772232\n",
      "Lambda 50.0 : 0.136155943928\n",
      "Lambda 25.0 : 0.135915859199\n",
      "Lambda 12.5 : 0.136022374462\n",
      "Lambda 6.25 : 0.136267864941\n",
      "Lambda 3.125 : 0.136570956936\n",
      "Lambda 1.5625 : 0.136887640732\n",
      "Lambda 0.78125 : 0.137176268069\n"
     ]
    }
   ],
   "source": [
    "Lambda = 400\n",
    "RMSEs = np.zeros((10,5))\n",
    "Min = 0\n",
    "\n",
    "# Do k-fold cross validation with k = 5\n",
    "for i in range(10):\n",
    "    for k in range(5):\n",
    "        xTrain_k = np.concatenate((xTrain[0:int(k*(len(xTrain)/5))], xTrain[int((k+1)*(len(xTrain)/5)):int(len(xTrain))]))\n",
    "        yTrain_k = np.concatenate((yTrain[0:int(k*(len(yTrain)/5))], yTrain[int((k+1)*(len(yTrain)/5)):int(len(yTrain))]))\n",
    "        \n",
    "        xTest_k = xTrain[int(k*(len(xTrain)/5)):int((k+1)*(len(xTrain)/5))]\n",
    "        yTest_k = yTrain[int(k*(len(yTrain)/5)):int((k+1)*(len(yTrain)/5))]\n",
    "\n",
    "        prediction = ridge_regression(xTrain_k, yTrain_k, xTest_k, Lambda)\n",
    "\n",
    "        RMSEs[i, k] = get_RMSE(prediction, yTest_k)\n",
    "    Lambda /= 2\n",
    "\n",
    "# Get average RMSE for each lambda and choose optimal lambda\n",
    "for i in range(9):\n",
    "    if (sum(RMSEs[i+1]) / 5) < (sum(RMSEs[Min]) / 5):\n",
    "        Min = i + 1\n",
    "\n",
    "for j in range(10):\n",
    "    print(\"Lambda\", (400 / (2 **j)), \":\", sum(RMSEs[j]) / 5)\n",
    "\n",
    "optLambda = 400 / (2 ** Min)"
   ]
  },
  {
   "cell_type": "code",
   "execution_count": 8,
   "metadata": {},
   "outputs": [
    {
     "name": "stdout",
     "output_type": "stream",
     "text": [
      "Testing Ridge RMSE is  0.14574650707057937\n"
     ]
    }
   ],
   "source": [
    "# Make predictions and calculate RMSE for test data\n",
    "testR_prediction = ridge_regression(xTrain, yTrain, xTest, optLambda)\n",
    "testR_RMSE = get_RMSE(testR_prediction, yTest)\n",
    "print(\"Testing Ridge RMSE is \", testR_RMSE)"
   ]
  },
  {
   "cell_type": "markdown",
   "metadata": {},
   "source": [
    "## Linear Regression w/ Gradient Descent"
   ]
  },
  {
   "cell_type": "code",
   "execution_count": 9,
   "metadata": {},
   "outputs": [],
   "source": [
    "# Compute loss function for linear regression\n",
    "def linear_loss_function(x, y, w):\n",
    "    left = (y - np.dot(x, w)).T\n",
    "    right = (y - np.dot(x, w))\n",
    "    L = np.dot(left, right)\n",
    "    \n",
    "    return L\n",
    "\n",
    "alpha = .00001"
   ]
  },
  {
   "cell_type": "code",
   "execution_count": 10,
   "metadata": {},
   "outputs": [],
   "source": [
    "# Use gradient descent until convergence to obtain w\n",
    "w0 = np.random.normal(0, 1, (xTrain.shape[1],1))\n",
    "L1 = 1\n",
    "L0 = 0\n",
    "\n",
    "while (abs(L1 - L0) > .0000001):\n",
    "    w1 = w0 - (alpha * np.dot(xTrain.T, (np.dot(xTrain, w0) - yTrain)))\n",
    "    L0 = linear_loss_function(xTrain, yTrain, w0)\n",
    "    L1 = linear_loss_function(xTrain, yTrain, w1)\n",
    "    w0 = w1"
   ]
  },
  {
   "cell_type": "code",
   "execution_count": 11,
   "metadata": {},
   "outputs": [
    {
     "name": "stdout",
     "output_type": "stream",
     "text": [
      "Training LGD RMSE is  0.12769916223589392\n",
      "Testing LGD RMSE is  0.1458346449094983\n"
     ]
    }
   ],
   "source": [
    "prediction = []\n",
    "\n",
    "# Make predictions and calculate RMSE for training data\n",
    "for i in xTrain:\n",
    "    prediction.append(np.dot(w0.T, i))\n",
    "\n",
    "trainLGD_RSME = get_RMSE(prediction, yTrain)\n",
    "print(\"Training LGD RMSE is \", trainLGD_RSME)\n",
    "\n",
    "# Make predictions and calculate RMSE for test data\n",
    "for i in xTest:\n",
    "    prediction.append(np.dot(w0.T, i))\n",
    "\n",
    "testLGD_RMSE = get_RMSE(test_prediction, yTest)\n",
    "print(\"Testing LGD RMSE is \", testLGD_RMSE)"
   ]
  },
  {
   "cell_type": "markdown",
   "metadata": {},
   "source": [
    "## Ridge Regression w/ Gradient Descent"
   ]
  },
  {
   "cell_type": "code",
   "execution_count": 12,
   "metadata": {
    "collapsed": true
   },
   "outputs": [],
   "source": [
    "# Compute loss function for ridge regression\n",
    "def ridge_loss_function(x, y, w):\n",
    "    left = (y - np.dot(x, w)).T\n",
    "    right = (y - np.dot(x, w))\n",
    "    L = np.dot(left, right) + (optLambda * np.dot(w0.T, w0))\n",
    "    \n",
    "    return L\n",
    "\n",
    "alpha = .00001"
   ]
  },
  {
   "cell_type": "code",
   "execution_count": 13,
   "metadata": {
    "collapsed": true
   },
   "outputs": [],
   "source": [
    "# Use gradient descent until convergence to obtain w\n",
    "w0 = np.random.normal(0, 1, (xTrain.shape[1],1))\n",
    "L1 = 1\n",
    "L0 = 0\n",
    "\n",
    "while (abs(L1 - L0) > .0000001):\n",
    "    w1 = w0 - (alpha * (np.dot(xTrain.T, (np.dot(xTrain, w0) - yTrain)) + (optLambda * w0)))\n",
    "    L0 = ridge_loss_function(xTrain, yTrain, w0)\n",
    "    L1 = ridge_loss_function(xTrain, yTrain, w1)\n",
    "    w0 = w1"
   ]
  },
  {
   "cell_type": "code",
   "execution_count": 14,
   "metadata": {},
   "outputs": [
    {
     "name": "stdout",
     "output_type": "stream",
     "text": [
      "Testing RGD RMSE is  0.145746402627983\n"
     ]
    }
   ],
   "source": [
    "prediction = []\n",
    "\n",
    "# Make predictions and calculate RMSE for test data\n",
    "for i in xTest:\n",
    "    prediction.append(np.dot(w0.T, i))\n",
    "\n",
    "testRGD_RMSE = get_RMSE(prediction, yTest)\n",
    "print(\"Testing RGD RMSE is \", testRGD_RMSE)"
   ]
  }
 ],
 "metadata": {
  "kernelspec": {
   "display_name": "Python 3",
   "language": "python",
   "name": "python3"
  },
  "language_info": {
   "codemirror_mode": {
    "name": "ipython",
    "version": 3
   },
   "file_extension": ".py",
   "mimetype": "text/x-python",
   "name": "python",
   "nbconvert_exporter": "python",
   "pygments_lexer": "ipython3",
   "version": "3.6.3"
  }
 },
 "nbformat": 4,
 "nbformat_minor": 2
}
